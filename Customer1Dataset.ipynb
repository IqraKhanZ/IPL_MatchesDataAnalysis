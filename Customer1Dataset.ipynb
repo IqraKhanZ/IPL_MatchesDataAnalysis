{
 "cells": [
  {
   "cell_type": "code",
   "execution_count": 26,
   "id": "6b7cf7d9-50e0-4839-a053-09e025cb5a2f",
   "metadata": {},
   "outputs": [],
   "source": [
    "import pandas as pd\n",
    "import numpy as np\n",
    "#import libarry(selective import) name from modulename\n",
    "from sklearn.preprocessing import LabelEncoder, StandardScaler\n",
    "import matplotlib.pyplot as plt\n",
    "import seaborn as sns"
   ]
  },
  {
   "cell_type": "markdown",
   "id": "626aead9-22d5-4fce-81a7-d4d309d05aa2",
   "metadata": {},
   "source": [
    "## Reading Excel File"
   ]
  },
  {
   "cell_type": "code",
   "execution_count": 2,
   "id": "b9dbbd24-08c4-405d-a076-52d87f543151",
   "metadata": {},
   "outputs": [
    {
     "name": "stdout",
     "output_type": "stream",
     "text": [
      "File read successful\n",
      "\n",
      "<class 'pandas.core.frame.DataFrame'>\n",
      "\n",
      "   Sr. No.   Name  Age Gender\n",
      "0        1   Iqra   20      F\n",
      "1        2   Ojas   21      M\n",
      "2        3   Omar   22      M\n",
      "3        4  Nasir   24      M\n",
      "4        5  Fizza   23      F\n"
     ]
    }
   ],
   "source": [
    "filexl=pd.read_excel('Book1.xlsx')\n",
    "print(\"File read successful\")\n",
    "print()\n",
    "print(type(filexl))\n",
    "print()\n",
    "print(filexl)"
   ]
  },
  {
   "cell_type": "code",
   "execution_count": 3,
   "id": "ffed3da7-eb67-40d6-9b0f-e41b311acc59",
   "metadata": {},
   "outputs": [
    {
     "name": "stdout",
     "output_type": "stream",
     "text": [
      "File read successful\n",
      "\n",
      "     Name    Class\n",
      "0    IQRA   Bombay\n",
      "1  ALWARA    Delhi\n",
      "2   NASIR  Lucknow\n",
      "\n",
      "<class 'pandas.core.frame.DataFrame'>\n",
      "\n",
      "   Sr.No    Name  Age Gender\n",
      "0      1    Jack   23      M\n",
      "1      2   Urban   45      M\n",
      "2      3     Joe   66      M\n",
      "3      4  Gloria   34      F\n",
      "4      5  Rachel   56      F\n",
      "\n",
      "<class 'pandas.core.frame.DataFrame'>\n",
      "RangeIndex: 5 entries, 0 to 4\n",
      "Data columns (total 4 columns):\n",
      " #   Column  Non-Null Count  Dtype \n",
      "---  ------  --------------  ----- \n",
      " 0   Sr.No   5 non-null      int64 \n",
      " 1   Name    5 non-null      object\n",
      " 2   Age     5 non-null      int64 \n",
      " 3   Gender  5 non-null      object\n",
      "dtypes: int64(2), object(2)\n",
      "memory usage: 292.0+ bytes\n"
     ]
    }
   ],
   "source": [
    "filecsv=pd.read_csv('Book2.csv')\n",
    "file2=pd.read_excel('C:/Users/iqraf/csvdata2.xlsx')\n",
    "print(\"File read successful\")\n",
    "print()\n",
    "print(file2)\n",
    "print()\n",
    "print(type(filecsv))\n",
    "print()\n",
    "print(filecsv)\n",
    "print()\n",
    "filecsv.info() #It will provide summary of entire data"
   ]
  },
  {
   "cell_type": "code",
   "execution_count": 4,
   "id": "d2ad2bf8-d6cf-49c8-bb59-ff3786394318",
   "metadata": {},
   "outputs": [
    {
     "name": "stdout",
     "output_type": "stream",
     "text": [
      "File read successful\n",
      "\n",
      "<class 'pandas.core.frame.DataFrame'>\n",
      "RangeIndex: 100 entries, 0 to 99\n",
      "Data columns (total 8 columns):\n",
      " #   Column         Non-Null Count  Dtype  \n",
      "---  ------         --------------  -----  \n",
      " 0   CustomerID     100 non-null    object \n",
      " 1   Age            100 non-null    int64  \n",
      " 2   Gender         100 non-null    object \n",
      " 3   AnnualIncome   100 non-null    float64\n",
      " 4   SpendingScore  100 non-null    int64  \n",
      " 5   City           100 non-null    object \n",
      " 6   SignupDate     100 non-null    object \n",
      " 7   IsActive       100 non-null    object \n",
      "dtypes: float64(1), int64(2), object(5)\n",
      "memory usage: 6.4+ KB\n"
     ]
    }
   ],
   "source": [
    "cus=pd.read_csv('customer1.csv')\n",
    "print(\"File read successful\")\n",
    "print()\n",
    "cus.info()"
   ]
  },
  {
   "cell_type": "code",
   "execution_count": 5,
   "id": "118254d8-82eb-4ec2-8a05-441a676e1961",
   "metadata": {},
   "outputs": [
    {
     "data": {
      "text/html": [
       "<div>\n",
       "<style scoped>\n",
       "    .dataframe tbody tr th:only-of-type {\n",
       "        vertical-align: middle;\n",
       "    }\n",
       "\n",
       "    .dataframe tbody tr th {\n",
       "        vertical-align: top;\n",
       "    }\n",
       "\n",
       "    .dataframe thead th {\n",
       "        text-align: right;\n",
       "    }\n",
       "</style>\n",
       "<table border=\"1\" class=\"dataframe\">\n",
       "  <thead>\n",
       "    <tr style=\"text-align: right;\">\n",
       "      <th></th>\n",
       "      <th>CustomerID</th>\n",
       "      <th>Age</th>\n",
       "      <th>Gender</th>\n",
       "      <th>AnnualIncome</th>\n",
       "      <th>SpendingScore</th>\n",
       "      <th>City</th>\n",
       "      <th>SignupDate</th>\n",
       "      <th>IsActive</th>\n",
       "    </tr>\n",
       "  </thead>\n",
       "  <tbody>\n",
       "    <tr>\n",
       "      <th>0</th>\n",
       "      <td>CUST1000</td>\n",
       "      <td>64</td>\n",
       "      <td>Male</td>\n",
       "      <td>82.94</td>\n",
       "      <td>51</td>\n",
       "      <td>Chicago</td>\n",
       "      <td>2020-08-20</td>\n",
       "      <td>Yes</td>\n",
       "    </tr>\n",
       "    <tr>\n",
       "      <th>1</th>\n",
       "      <td>CUST1001</td>\n",
       "      <td>36</td>\n",
       "      <td>Male</td>\n",
       "      <td>55.44</td>\n",
       "      <td>92</td>\n",
       "      <td>San Francisco</td>\n",
       "      <td>2022-02-20</td>\n",
       "      <td>No</td>\n",
       "    </tr>\n",
       "    <tr>\n",
       "      <th>2</th>\n",
       "      <td>CUST1002</td>\n",
       "      <td>35</td>\n",
       "      <td>Female</td>\n",
       "      <td>60.98</td>\n",
       "      <td>14</td>\n",
       "      <td>New York</td>\n",
       "      <td>2022-08-18</td>\n",
       "      <td>Yes</td>\n",
       "    </tr>\n",
       "    <tr>\n",
       "      <th>3</th>\n",
       "      <td>CUST1003</td>\n",
       "      <td>52</td>\n",
       "      <td>Female</td>\n",
       "      <td>74.94</td>\n",
       "      <td>36</td>\n",
       "      <td>Houston</td>\n",
       "      <td>2020-01-18</td>\n",
       "      <td>Yes</td>\n",
       "    </tr>\n",
       "    <tr>\n",
       "      <th>4</th>\n",
       "      <td>CUST1004</td>\n",
       "      <td>33</td>\n",
       "      <td>Male</td>\n",
       "      <td>90.57</td>\n",
       "      <td>34</td>\n",
       "      <td>San Francisco</td>\n",
       "      <td>2020-12-25</td>\n",
       "      <td>Yes</td>\n",
       "    </tr>\n",
       "    <tr>\n",
       "      <th>5</th>\n",
       "      <td>CUST1005</td>\n",
       "      <td>30</td>\n",
       "      <td>Male</td>\n",
       "      <td>62.40</td>\n",
       "      <td>92</td>\n",
       "      <td>Chicago</td>\n",
       "      <td>2020-02-04</td>\n",
       "      <td>Yes</td>\n",
       "    </tr>\n",
       "    <tr>\n",
       "      <th>6</th>\n",
       "      <td>CUST1006</td>\n",
       "      <td>64</td>\n",
       "      <td>Female</td>\n",
       "      <td>60.14</td>\n",
       "      <td>15</td>\n",
       "      <td>Houston</td>\n",
       "      <td>2021-11-10</td>\n",
       "      <td>No</td>\n",
       "    </tr>\n",
       "    <tr>\n",
       "      <th>7</th>\n",
       "      <td>CUST1007</td>\n",
       "      <td>63</td>\n",
       "      <td>Male</td>\n",
       "      <td>58.53</td>\n",
       "      <td>81</td>\n",
       "      <td>San Francisco</td>\n",
       "      <td>2021-10-19</td>\n",
       "      <td>Yes</td>\n",
       "    </tr>\n",
       "    <tr>\n",
       "      <th>8</th>\n",
       "      <td>CUST1008</td>\n",
       "      <td>48</td>\n",
       "      <td>Female</td>\n",
       "      <td>88.80</td>\n",
       "      <td>26</td>\n",
       "      <td>Houston</td>\n",
       "      <td>2022-06-01</td>\n",
       "      <td>Yes</td>\n",
       "    </tr>\n",
       "    <tr>\n",
       "      <th>9</th>\n",
       "      <td>CUST1009</td>\n",
       "      <td>34</td>\n",
       "      <td>Male</td>\n",
       "      <td>49.27</td>\n",
       "      <td>79</td>\n",
       "      <td>San Francisco</td>\n",
       "      <td>2021-01-09</td>\n",
       "      <td>No</td>\n",
       "    </tr>\n",
       "    <tr>\n",
       "      <th>10</th>\n",
       "      <td>CUST1010</td>\n",
       "      <td>34</td>\n",
       "      <td>Male</td>\n",
       "      <td>52.17</td>\n",
       "      <td>57</td>\n",
       "      <td>Chicago</td>\n",
       "      <td>2019-01-19</td>\n",
       "      <td>No</td>\n",
       "    </tr>\n",
       "    <tr>\n",
       "      <th>11</th>\n",
       "      <td>CUST1011</td>\n",
       "      <td>47</td>\n",
       "      <td>Male</td>\n",
       "      <td>44.72</td>\n",
       "      <td>43</td>\n",
       "      <td>Los Angeles</td>\n",
       "      <td>2019-03-11</td>\n",
       "      <td>Yes</td>\n",
       "    </tr>\n",
       "    <tr>\n",
       "      <th>12</th>\n",
       "      <td>CUST1012</td>\n",
       "      <td>60</td>\n",
       "      <td>Male</td>\n",
       "      <td>84.03</td>\n",
       "      <td>90</td>\n",
       "      <td>San Francisco</td>\n",
       "      <td>2022-12-09</td>\n",
       "      <td>No</td>\n",
       "    </tr>\n",
       "    <tr>\n",
       "      <th>13</th>\n",
       "      <td>CUST1013</td>\n",
       "      <td>66</td>\n",
       "      <td>Other</td>\n",
       "      <td>54.82</td>\n",
       "      <td>71</td>\n",
       "      <td>San Francisco</td>\n",
       "      <td>2022-10-12</td>\n",
       "      <td>Yes</td>\n",
       "    </tr>\n",
       "    <tr>\n",
       "      <th>14</th>\n",
       "      <td>CUST1014</td>\n",
       "      <td>68</td>\n",
       "      <td>Female</td>\n",
       "      <td>79.82</td>\n",
       "      <td>37</td>\n",
       "      <td>Houston</td>\n",
       "      <td>2020-06-06</td>\n",
       "      <td>Yes</td>\n",
       "    </tr>\n",
       "    <tr>\n",
       "      <th>15</th>\n",
       "      <td>CUST1015</td>\n",
       "      <td>57</td>\n",
       "      <td>Female</td>\n",
       "      <td>75.56</td>\n",
       "      <td>86</td>\n",
       "      <td>San Francisco</td>\n",
       "      <td>2019-09-16</td>\n",
       "      <td>No</td>\n",
       "    </tr>\n",
       "    <tr>\n",
       "      <th>16</th>\n",
       "      <td>CUST1016</td>\n",
       "      <td>27</td>\n",
       "      <td>Male</td>\n",
       "      <td>70.95</td>\n",
       "      <td>90</td>\n",
       "      <td>Chicago</td>\n",
       "      <td>2020-07-10</td>\n",
       "      <td>No</td>\n",
       "    </tr>\n",
       "    <tr>\n",
       "      <th>17</th>\n",
       "      <td>CUST1017</td>\n",
       "      <td>33</td>\n",
       "      <td>Female</td>\n",
       "      <td>76.73</td>\n",
       "      <td>6</td>\n",
       "      <td>Chicago</td>\n",
       "      <td>2022-10-12</td>\n",
       "      <td>No</td>\n",
       "    </tr>\n",
       "    <tr>\n",
       "      <th>18</th>\n",
       "      <td>CUST1018</td>\n",
       "      <td>21</td>\n",
       "      <td>Male</td>\n",
       "      <td>80.76</td>\n",
       "      <td>65</td>\n",
       "      <td>Houston</td>\n",
       "      <td>2019-07-27</td>\n",
       "      <td>Yes</td>\n",
       "    </tr>\n",
       "    <tr>\n",
       "      <th>19</th>\n",
       "      <td>CUST1019</td>\n",
       "      <td>49</td>\n",
       "      <td>Female</td>\n",
       "      <td>70.83</td>\n",
       "      <td>69</td>\n",
       "      <td>Houston</td>\n",
       "      <td>2019-12-02</td>\n",
       "      <td>No</td>\n",
       "    </tr>\n",
       "    <tr>\n",
       "      <th>20</th>\n",
       "      <td>CUST1020</td>\n",
       "      <td>33</td>\n",
       "      <td>Other</td>\n",
       "      <td>57.29</td>\n",
       "      <td>50</td>\n",
       "      <td>Los Angeles</td>\n",
       "      <td>2020-07-06</td>\n",
       "      <td>Yes</td>\n",
       "    </tr>\n",
       "    <tr>\n",
       "      <th>21</th>\n",
       "      <td>CUST1021</td>\n",
       "      <td>40</td>\n",
       "      <td>Female</td>\n",
       "      <td>69.47</td>\n",
       "      <td>74</td>\n",
       "      <td>Los Angeles</td>\n",
       "      <td>2019-10-06</td>\n",
       "      <td>No</td>\n",
       "    </tr>\n",
       "    <tr>\n",
       "      <th>22</th>\n",
       "      <td>CUST1022</td>\n",
       "      <td>45</td>\n",
       "      <td>Female</td>\n",
       "      <td>67.62</td>\n",
       "      <td>16</td>\n",
       "      <td>New York</td>\n",
       "      <td>2020-08-01</td>\n",
       "      <td>No</td>\n",
       "    </tr>\n",
       "    <tr>\n",
       "      <th>23</th>\n",
       "      <td>CUST1023</td>\n",
       "      <td>33</td>\n",
       "      <td>Male</td>\n",
       "      <td>66.41</td>\n",
       "      <td>75</td>\n",
       "      <td>New York</td>\n",
       "      <td>2022-09-12</td>\n",
       "      <td>Yes</td>\n",
       "    </tr>\n",
       "    <tr>\n",
       "      <th>24</th>\n",
       "      <td>CUST1024</td>\n",
       "      <td>46</td>\n",
       "      <td>Female</td>\n",
       "      <td>68.18</td>\n",
       "      <td>63</td>\n",
       "      <td>Houston</td>\n",
       "      <td>2020-11-17</td>\n",
       "      <td>No</td>\n",
       "    </tr>\n",
       "  </tbody>\n",
       "</table>\n",
       "</div>"
      ],
      "text/plain": [
       "   CustomerID  Age  Gender  AnnualIncome  SpendingScore           City  \\\n",
       "0    CUST1000   64    Male         82.94             51        Chicago   \n",
       "1    CUST1001   36    Male         55.44             92  San Francisco   \n",
       "2    CUST1002   35  Female         60.98             14       New York   \n",
       "3    CUST1003   52  Female         74.94             36        Houston   \n",
       "4    CUST1004   33    Male         90.57             34  San Francisco   \n",
       "5    CUST1005   30    Male         62.40             92        Chicago   \n",
       "6    CUST1006   64  Female         60.14             15        Houston   \n",
       "7    CUST1007   63    Male         58.53             81  San Francisco   \n",
       "8    CUST1008   48  Female         88.80             26        Houston   \n",
       "9    CUST1009   34    Male         49.27             79  San Francisco   \n",
       "10   CUST1010   34    Male         52.17             57        Chicago   \n",
       "11   CUST1011   47    Male         44.72             43    Los Angeles   \n",
       "12   CUST1012   60    Male         84.03             90  San Francisco   \n",
       "13   CUST1013   66   Other         54.82             71  San Francisco   \n",
       "14   CUST1014   68  Female         79.82             37        Houston   \n",
       "15   CUST1015   57  Female         75.56             86  San Francisco   \n",
       "16   CUST1016   27    Male         70.95             90        Chicago   \n",
       "17   CUST1017   33  Female         76.73              6        Chicago   \n",
       "18   CUST1018   21    Male         80.76             65        Houston   \n",
       "19   CUST1019   49  Female         70.83             69        Houston   \n",
       "20   CUST1020   33   Other         57.29             50    Los Angeles   \n",
       "21   CUST1021   40  Female         69.47             74    Los Angeles   \n",
       "22   CUST1022   45  Female         67.62             16       New York   \n",
       "23   CUST1023   33    Male         66.41             75       New York   \n",
       "24   CUST1024   46  Female         68.18             63        Houston   \n",
       "\n",
       "    SignupDate IsActive  \n",
       "0   2020-08-20      Yes  \n",
       "1   2022-02-20       No  \n",
       "2   2022-08-18      Yes  \n",
       "3   2020-01-18      Yes  \n",
       "4   2020-12-25      Yes  \n",
       "5   2020-02-04      Yes  \n",
       "6   2021-11-10       No  \n",
       "7   2021-10-19      Yes  \n",
       "8   2022-06-01      Yes  \n",
       "9   2021-01-09       No  \n",
       "10  2019-01-19       No  \n",
       "11  2019-03-11      Yes  \n",
       "12  2022-12-09       No  \n",
       "13  2022-10-12      Yes  \n",
       "14  2020-06-06      Yes  \n",
       "15  2019-09-16       No  \n",
       "16  2020-07-10       No  \n",
       "17  2022-10-12       No  \n",
       "18  2019-07-27      Yes  \n",
       "19  2019-12-02       No  \n",
       "20  2020-07-06      Yes  \n",
       "21  2019-10-06       No  \n",
       "22  2020-08-01       No  \n",
       "23  2022-09-12      Yes  \n",
       "24  2020-11-17       No  "
      ]
     },
     "execution_count": 5,
     "metadata": {},
     "output_type": "execute_result"
    }
   ],
   "source": [
    "cus.head(25)"
   ]
  },
  {
   "cell_type": "code",
   "execution_count": 6,
   "id": "5d341db4-dc81-45ed-bbb3-ed5e2a920a40",
   "metadata": {},
   "outputs": [
    {
     "data": {
      "text/html": [
       "<div>\n",
       "<style scoped>\n",
       "    .dataframe tbody tr th:only-of-type {\n",
       "        vertical-align: middle;\n",
       "    }\n",
       "\n",
       "    .dataframe tbody tr th {\n",
       "        vertical-align: top;\n",
       "    }\n",
       "\n",
       "    .dataframe thead th {\n",
       "        text-align: right;\n",
       "    }\n",
       "</style>\n",
       "<table border=\"1\" class=\"dataframe\">\n",
       "  <thead>\n",
       "    <tr style=\"text-align: right;\">\n",
       "      <th></th>\n",
       "      <th>CustomerID</th>\n",
       "      <th>Age</th>\n",
       "      <th>Gender</th>\n",
       "      <th>AnnualIncome</th>\n",
       "      <th>SpendingScore</th>\n",
       "      <th>City</th>\n",
       "      <th>SignupDate</th>\n",
       "      <th>IsActive</th>\n",
       "    </tr>\n",
       "  </thead>\n",
       "  <tbody>\n",
       "    <tr>\n",
       "      <th>95</th>\n",
       "      <td>CUST1095</td>\n",
       "      <td>32</td>\n",
       "      <td>Female</td>\n",
       "      <td>81.43</td>\n",
       "      <td>48</td>\n",
       "      <td>Houston</td>\n",
       "      <td>2021-04-25</td>\n",
       "      <td>Yes</td>\n",
       "    </tr>\n",
       "    <tr>\n",
       "      <th>96</th>\n",
       "      <td>CUST1096</td>\n",
       "      <td>55</td>\n",
       "      <td>Male</td>\n",
       "      <td>61.38</td>\n",
       "      <td>72</td>\n",
       "      <td>Houston</td>\n",
       "      <td>2021-12-04</td>\n",
       "      <td>Yes</td>\n",
       "    </tr>\n",
       "    <tr>\n",
       "      <th>97</th>\n",
       "      <td>CUST1097</td>\n",
       "      <td>68</td>\n",
       "      <td>Female</td>\n",
       "      <td>56.73</td>\n",
       "      <td>97</td>\n",
       "      <td>Houston</td>\n",
       "      <td>2020-09-24</td>\n",
       "      <td>Yes</td>\n",
       "    </tr>\n",
       "    <tr>\n",
       "      <th>98</th>\n",
       "      <td>CUST1098</td>\n",
       "      <td>52</td>\n",
       "      <td>Female</td>\n",
       "      <td>80.57</td>\n",
       "      <td>77</td>\n",
       "      <td>Houston</td>\n",
       "      <td>2022-10-15</td>\n",
       "      <td>No</td>\n",
       "    </tr>\n",
       "    <tr>\n",
       "      <th>99</th>\n",
       "      <td>CUST1099</td>\n",
       "      <td>59</td>\n",
       "      <td>Male</td>\n",
       "      <td>81.19</td>\n",
       "      <td>94</td>\n",
       "      <td>Houston</td>\n",
       "      <td>2021-01-19</td>\n",
       "      <td>Yes</td>\n",
       "    </tr>\n",
       "  </tbody>\n",
       "</table>\n",
       "</div>"
      ],
      "text/plain": [
       "   CustomerID  Age  Gender  AnnualIncome  SpendingScore     City  SignupDate  \\\n",
       "95   CUST1095   32  Female         81.43             48  Houston  2021-04-25   \n",
       "96   CUST1096   55    Male         61.38             72  Houston  2021-12-04   \n",
       "97   CUST1097   68  Female         56.73             97  Houston  2020-09-24   \n",
       "98   CUST1098   52  Female         80.57             77  Houston  2022-10-15   \n",
       "99   CUST1099   59    Male         81.19             94  Houston  2021-01-19   \n",
       "\n",
       "   IsActive  \n",
       "95      Yes  \n",
       "96      Yes  \n",
       "97      Yes  \n",
       "98       No  \n",
       "99      Yes  "
      ]
     },
     "execution_count": 6,
     "metadata": {},
     "output_type": "execute_result"
    }
   ],
   "source": [
    "cus.tail()"
   ]
  },
  {
   "cell_type": "code",
   "execution_count": 7,
   "id": "4e75496c-7e98-4765-b092-1b42b3a46262",
   "metadata": {},
   "outputs": [
    {
     "name": "stdout",
     "output_type": "stream",
     "text": [
      "Missing value count in each column-\n",
      " CustomerID       0\n",
      "Age              0\n",
      "Gender           0\n",
      "AnnualIncome     0\n",
      "SpendingScore    0\n",
      "City             0\n",
      "SignupDate       0\n",
      "IsActive         0\n",
      "dtype: int64\n"
     ]
    }
   ],
   "source": [
    "print(\"Missing value count in each column-\\n\", cus.isnull().sum()) \n",
    "#isnull() will identify if there is any null value in dataset or not (retiurns the resu;"
   ]
  },
  {
   "cell_type": "markdown",
   "id": "73f5e668-c76f-45a2-9244-f7006b21567f",
   "metadata": {},
   "source": [
    "### Replacing Age null values assumption"
   ]
  },
  {
   "cell_type": "code",
   "execution_count": 8,
   "id": "702c82cc-bf6e-45d3-b553-b784b5334de5",
   "metadata": {},
   "outputs": [
    {
     "name": "stdout",
     "output_type": "stream",
     "text": [
      "Median of age= 40\n"
     ]
    }
   ],
   "source": [
    "age_new=int(np.median (cus ['Age']))\n",
    "print(\"Median of age=\", age_new)\n",
    "cus ['Age_new']=cus['Age'].fillna(age_new)"
   ]
  },
  {
   "cell_type": "code",
   "execution_count": 9,
   "id": "f9daed72-0f7a-476f-9415-9f973121efcc",
   "metadata": {},
   "outputs": [
    {
     "name": "stdout",
     "output_type": "stream",
     "text": [
      "<class 'pandas.core.frame.DataFrame'>\n",
      "RangeIndex: 100 entries, 0 to 99\n",
      "Data columns (total 9 columns):\n",
      " #   Column         Non-Null Count  Dtype  \n",
      "---  ------         --------------  -----  \n",
      " 0   CustomerID     100 non-null    object \n",
      " 1   Age            100 non-null    int64  \n",
      " 2   Gender         100 non-null    object \n",
      " 3   AnnualIncome   100 non-null    float64\n",
      " 4   SpendingScore  100 non-null    int64  \n",
      " 5   City           100 non-null    object \n",
      " 6   SignupDate     100 non-null    object \n",
      " 7   IsActive       100 non-null    object \n",
      " 8   Age_new        100 non-null    int64  \n",
      "dtypes: float64(1), int64(3), object(5)\n",
      "memory usage: 7.2+ KB\n"
     ]
    }
   ],
   "source": [
    "cus.info()"
   ]
  },
  {
   "cell_type": "code",
   "execution_count": 10,
   "id": "46acca03-0ac9-4271-a60a-ed5cefc5b59e",
   "metadata": {},
   "outputs": [
    {
     "data": {
      "text/plain": [
       "'Houston'"
      ]
     },
     "execution_count": 10,
     "metadata": {},
     "output_type": "execute_result"
    }
   ],
   "source": [
    "cus[\"City\"][3]"
   ]
  },
  {
   "cell_type": "markdown",
   "id": "678d327f-77b0-48d0-bafc-0f5168efefca",
   "metadata": {},
   "source": [
    "### Fixing city name and stip spaces and standardizing capitalization "
   ]
  },
  {
   "cell_type": "code",
   "execution_count": 11,
   "id": "8f934630-ba7f-4a08-a0ff-a9487b537890",
   "metadata": {},
   "outputs": [
    {
     "data": {
      "text/html": [
       "<div>\n",
       "<style scoped>\n",
       "    .dataframe tbody tr th:only-of-type {\n",
       "        vertical-align: middle;\n",
       "    }\n",
       "\n",
       "    .dataframe tbody tr th {\n",
       "        vertical-align: top;\n",
       "    }\n",
       "\n",
       "    .dataframe thead th {\n",
       "        text-align: right;\n",
       "    }\n",
       "</style>\n",
       "<table border=\"1\" class=\"dataframe\">\n",
       "  <thead>\n",
       "    <tr style=\"text-align: right;\">\n",
       "      <th></th>\n",
       "      <th>CustomerID</th>\n",
       "      <th>Age</th>\n",
       "      <th>Gender</th>\n",
       "      <th>AnnualIncome</th>\n",
       "      <th>SpendingScore</th>\n",
       "      <th>City</th>\n",
       "      <th>SignupDate</th>\n",
       "      <th>IsActive</th>\n",
       "      <th>Age_new</th>\n",
       "    </tr>\n",
       "  </thead>\n",
       "  <tbody>\n",
       "    <tr>\n",
       "      <th>0</th>\n",
       "      <td>CUST1000</td>\n",
       "      <td>64</td>\n",
       "      <td>Male</td>\n",
       "      <td>82.94</td>\n",
       "      <td>51</td>\n",
       "      <td>Chicago</td>\n",
       "      <td>2020-08-20</td>\n",
       "      <td>Yes</td>\n",
       "      <td>64</td>\n",
       "    </tr>\n",
       "    <tr>\n",
       "      <th>1</th>\n",
       "      <td>CUST1001</td>\n",
       "      <td>36</td>\n",
       "      <td>Male</td>\n",
       "      <td>55.44</td>\n",
       "      <td>92</td>\n",
       "      <td>San Francisco</td>\n",
       "      <td>2022-02-20</td>\n",
       "      <td>No</td>\n",
       "      <td>36</td>\n",
       "    </tr>\n",
       "    <tr>\n",
       "      <th>2</th>\n",
       "      <td>CUST1002</td>\n",
       "      <td>35</td>\n",
       "      <td>Female</td>\n",
       "      <td>60.98</td>\n",
       "      <td>14</td>\n",
       "      <td>New York</td>\n",
       "      <td>2022-08-18</td>\n",
       "      <td>Yes</td>\n",
       "      <td>35</td>\n",
       "    </tr>\n",
       "    <tr>\n",
       "      <th>3</th>\n",
       "      <td>CUST1003</td>\n",
       "      <td>52</td>\n",
       "      <td>Female</td>\n",
       "      <td>74.94</td>\n",
       "      <td>36</td>\n",
       "      <td>Houston</td>\n",
       "      <td>2020-01-18</td>\n",
       "      <td>Yes</td>\n",
       "      <td>52</td>\n",
       "    </tr>\n",
       "    <tr>\n",
       "      <th>4</th>\n",
       "      <td>CUST1004</td>\n",
       "      <td>33</td>\n",
       "      <td>Male</td>\n",
       "      <td>90.57</td>\n",
       "      <td>34</td>\n",
       "      <td>San Francisco</td>\n",
       "      <td>2020-12-25</td>\n",
       "      <td>Yes</td>\n",
       "      <td>33</td>\n",
       "    </tr>\n",
       "  </tbody>\n",
       "</table>\n",
       "</div>"
      ],
      "text/plain": [
       "  CustomerID  Age  Gender  AnnualIncome  SpendingScore           City  \\\n",
       "0   CUST1000   64    Male         82.94             51        Chicago   \n",
       "1   CUST1001   36    Male         55.44             92  San Francisco   \n",
       "2   CUST1002   35  Female         60.98             14       New York   \n",
       "3   CUST1003   52  Female         74.94             36        Houston   \n",
       "4   CUST1004   33    Male         90.57             34  San Francisco   \n",
       "\n",
       "   SignupDate IsActive  Age_new  \n",
       "0  2020-08-20      Yes       64  \n",
       "1  2022-02-20       No       36  \n",
       "2  2022-08-18      Yes       35  \n",
       "3  2020-01-18      Yes       52  \n",
       "4  2020-12-25      Yes       33  "
      ]
     },
     "execution_count": 11,
     "metadata": {},
     "output_type": "execute_result"
    }
   ],
   "source": [
    "cus[\"City\"]=cus[\"City\"].str.title().str.strip()\n",
    "# str.title will capitalize all values\n",
    "# str.strip will remove spaces from front and back\n",
    "cus.head()"
   ]
  },
  {
   "cell_type": "code",
   "execution_count": 12,
   "id": "19c103e7-9be8-4122-a4b1-5cd793e2e9c6",
   "metadata": {},
   "outputs": [
    {
     "data": {
      "text/html": [
       "<div>\n",
       "<style scoped>\n",
       "    .dataframe tbody tr th:only-of-type {\n",
       "        vertical-align: middle;\n",
       "    }\n",
       "\n",
       "    .dataframe tbody tr th {\n",
       "        vertical-align: top;\n",
       "    }\n",
       "\n",
       "    .dataframe thead th {\n",
       "        text-align: right;\n",
       "    }\n",
       "</style>\n",
       "<table border=\"1\" class=\"dataframe\">\n",
       "  <thead>\n",
       "    <tr style=\"text-align: right;\">\n",
       "      <th></th>\n",
       "      <th>CustomerID</th>\n",
       "      <th>Age</th>\n",
       "      <th>Gender</th>\n",
       "      <th>AnnualIncome</th>\n",
       "      <th>SpendingScore</th>\n",
       "      <th>City</th>\n",
       "      <th>SignupDate</th>\n",
       "      <th>IsActive</th>\n",
       "      <th>Age_new</th>\n",
       "    </tr>\n",
       "  </thead>\n",
       "  <tbody>\n",
       "    <tr>\n",
       "      <th>0</th>\n",
       "      <td>CUST1000</td>\n",
       "      <td>64</td>\n",
       "      <td>Male</td>\n",
       "      <td>82.94</td>\n",
       "      <td>51</td>\n",
       "      <td>Chicago</td>\n",
       "      <td>2020-08-20</td>\n",
       "      <td>Yes</td>\n",
       "      <td>64</td>\n",
       "    </tr>\n",
       "    <tr>\n",
       "      <th>1</th>\n",
       "      <td>CUST1001</td>\n",
       "      <td>36</td>\n",
       "      <td>Male</td>\n",
       "      <td>55.44</td>\n",
       "      <td>92</td>\n",
       "      <td>San Francisco</td>\n",
       "      <td>2022-02-20</td>\n",
       "      <td>No</td>\n",
       "      <td>36</td>\n",
       "    </tr>\n",
       "    <tr>\n",
       "      <th>2</th>\n",
       "      <td>CUST1002</td>\n",
       "      <td>35</td>\n",
       "      <td>Female</td>\n",
       "      <td>60.98</td>\n",
       "      <td>14</td>\n",
       "      <td>New York</td>\n",
       "      <td>2022-08-18</td>\n",
       "      <td>Yes</td>\n",
       "      <td>35</td>\n",
       "    </tr>\n",
       "    <tr>\n",
       "      <th>3</th>\n",
       "      <td>CUST1003</td>\n",
       "      <td>52</td>\n",
       "      <td>Female</td>\n",
       "      <td>74.94</td>\n",
       "      <td>36</td>\n",
       "      <td>Houston</td>\n",
       "      <td>2020-01-18</td>\n",
       "      <td>Yes</td>\n",
       "      <td>52</td>\n",
       "    </tr>\n",
       "    <tr>\n",
       "      <th>4</th>\n",
       "      <td>CUST1004</td>\n",
       "      <td>33</td>\n",
       "      <td>Male</td>\n",
       "      <td>90.57</td>\n",
       "      <td>34</td>\n",
       "      <td>San Francisco</td>\n",
       "      <td>2020-12-25</td>\n",
       "      <td>Yes</td>\n",
       "      <td>33</td>\n",
       "    </tr>\n",
       "  </tbody>\n",
       "</table>\n",
       "</div>"
      ],
      "text/plain": [
       "  CustomerID  Age  Gender  AnnualIncome  SpendingScore           City  \\\n",
       "0   CUST1000   64    Male         82.94             51        Chicago   \n",
       "1   CUST1001   36    Male         55.44             92  San Francisco   \n",
       "2   CUST1002   35  Female         60.98             14       New York   \n",
       "3   CUST1003   52  Female         74.94             36        Houston   \n",
       "4   CUST1004   33    Male         90.57             34  San Francisco   \n",
       "\n",
       "  SignupDate IsActive  Age_new  \n",
       "0 2020-08-20      Yes       64  \n",
       "1 2022-02-20       No       36  \n",
       "2 2022-08-18      Yes       35  \n",
       "3 2020-01-18      Yes       52  \n",
       "4 2020-12-25      Yes       33  "
      ]
     },
     "execution_count": 12,
     "metadata": {},
     "output_type": "execute_result"
    }
   ],
   "source": [
    "cus['SignupDate'] = pd.to_datetime(cus['SignupDate'])  # Convert to datetime type\n",
    "cus.head()"
   ]
  },
  {
   "cell_type": "code",
   "execution_count": 13,
   "id": "1146c50b-a6be-4350-a39b-0d684a50e36d",
   "metadata": {},
   "outputs": [
    {
     "data": {
      "text/html": [
       "<div>\n",
       "<style scoped>\n",
       "    .dataframe tbody tr th:only-of-type {\n",
       "        vertical-align: middle;\n",
       "    }\n",
       "\n",
       "    .dataframe tbody tr th {\n",
       "        vertical-align: top;\n",
       "    }\n",
       "\n",
       "    .dataframe thead th {\n",
       "        text-align: right;\n",
       "    }\n",
       "</style>\n",
       "<table border=\"1\" class=\"dataframe\">\n",
       "  <thead>\n",
       "    <tr style=\"text-align: right;\">\n",
       "      <th></th>\n",
       "      <th>CustomerID</th>\n",
       "      <th>Age</th>\n",
       "      <th>Gender</th>\n",
       "      <th>AnnualIncome</th>\n",
       "      <th>SpendingScore</th>\n",
       "      <th>City</th>\n",
       "      <th>IsActive</th>\n",
       "      <th>Age_new</th>\n",
       "      <th>SignupYear</th>\n",
       "      <th>SignupMonth</th>\n",
       "    </tr>\n",
       "  </thead>\n",
       "  <tbody>\n",
       "    <tr>\n",
       "      <th>0</th>\n",
       "      <td>CUST1000</td>\n",
       "      <td>64</td>\n",
       "      <td>Male</td>\n",
       "      <td>82.94</td>\n",
       "      <td>51</td>\n",
       "      <td>Chicago</td>\n",
       "      <td>Yes</td>\n",
       "      <td>64</td>\n",
       "      <td>2020</td>\n",
       "      <td>8</td>\n",
       "    </tr>\n",
       "    <tr>\n",
       "      <th>1</th>\n",
       "      <td>CUST1001</td>\n",
       "      <td>36</td>\n",
       "      <td>Male</td>\n",
       "      <td>55.44</td>\n",
       "      <td>92</td>\n",
       "      <td>San Francisco</td>\n",
       "      <td>No</td>\n",
       "      <td>36</td>\n",
       "      <td>2022</td>\n",
       "      <td>2</td>\n",
       "    </tr>\n",
       "    <tr>\n",
       "      <th>2</th>\n",
       "      <td>CUST1002</td>\n",
       "      <td>35</td>\n",
       "      <td>Female</td>\n",
       "      <td>60.98</td>\n",
       "      <td>14</td>\n",
       "      <td>New York</td>\n",
       "      <td>Yes</td>\n",
       "      <td>35</td>\n",
       "      <td>2022</td>\n",
       "      <td>8</td>\n",
       "    </tr>\n",
       "    <tr>\n",
       "      <th>3</th>\n",
       "      <td>CUST1003</td>\n",
       "      <td>52</td>\n",
       "      <td>Female</td>\n",
       "      <td>74.94</td>\n",
       "      <td>36</td>\n",
       "      <td>Houston</td>\n",
       "      <td>Yes</td>\n",
       "      <td>52</td>\n",
       "      <td>2020</td>\n",
       "      <td>1</td>\n",
       "    </tr>\n",
       "    <tr>\n",
       "      <th>4</th>\n",
       "      <td>CUST1004</td>\n",
       "      <td>33</td>\n",
       "      <td>Male</td>\n",
       "      <td>90.57</td>\n",
       "      <td>34</td>\n",
       "      <td>San Francisco</td>\n",
       "      <td>Yes</td>\n",
       "      <td>33</td>\n",
       "      <td>2020</td>\n",
       "      <td>12</td>\n",
       "    </tr>\n",
       "  </tbody>\n",
       "</table>\n",
       "</div>"
      ],
      "text/plain": [
       "  CustomerID  Age  Gender  AnnualIncome  SpendingScore           City  \\\n",
       "0   CUST1000   64    Male         82.94             51        Chicago   \n",
       "1   CUST1001   36    Male         55.44             92  San Francisco   \n",
       "2   CUST1002   35  Female         60.98             14       New York   \n",
       "3   CUST1003   52  Female         74.94             36        Houston   \n",
       "4   CUST1004   33    Male         90.57             34  San Francisco   \n",
       "\n",
       "  IsActive  Age_new  SignupYear  SignupMonth  \n",
       "0      Yes       64        2020            8  \n",
       "1       No       36        2022            2  \n",
       "2      Yes       35        2022            8  \n",
       "3      Yes       52        2020            1  \n",
       "4      Yes       33        2020           12  "
      ]
     },
     "execution_count": 13,
     "metadata": {},
     "output_type": "execute_result"
    }
   ],
   "source": [
    "# Extracting date and month as new feature\n",
    "cus['SignupYear'] = cus['SignupDate'].dt.year\n",
    "cus['SignupMonth'] = cus['SignupDate'].dt.month\n",
    "cus.drop(columns=['SignupDate'], inplace=True) # Modifies cus directly, returns None\n",
    "# No reassignment needed here\n",
    "cus.head()"
   ]
  },
  {
   "cell_type": "code",
   "execution_count": 14,
   "id": "3e55d29d-4a1c-43f9-b3a4-eb913aa5d048",
   "metadata": {},
   "outputs": [
    {
     "name": "stdout",
     "output_type": "stream",
     "text": [
      "<class 'pandas.core.frame.DataFrame'>\n",
      "RangeIndex: 100 entries, 0 to 99\n",
      "Data columns (total 10 columns):\n",
      " #   Column         Non-Null Count  Dtype  \n",
      "---  ------         --------------  -----  \n",
      " 0   CustomerID     100 non-null    object \n",
      " 1   Age            100 non-null    int64  \n",
      " 2   Gender         100 non-null    object \n",
      " 3   AnnualIncome   100 non-null    float64\n",
      " 4   SpendingScore  100 non-null    int64  \n",
      " 5   City           100 non-null    object \n",
      " 6   IsActive       100 non-null    object \n",
      " 7   Age_new        100 non-null    int64  \n",
      " 8   SignupYear     100 non-null    int32  \n",
      " 9   SignupMonth    100 non-null    int32  \n",
      "dtypes: float64(1), int32(2), int64(3), object(4)\n",
      "memory usage: 7.2+ KB\n"
     ]
    }
   ],
   "source": [
    "cus.info()"
   ]
  },
  {
   "cell_type": "code",
   "execution_count": 15,
   "id": "f3684298-f3af-4023-8cd3-ea89b5eff427",
   "metadata": {},
   "outputs": [
    {
     "name": "stdout",
     "output_type": "stream",
     "text": [
      "Requirement already satisfied: scikit-learn in c:\\users\\iqraf\\anaconda3\\lib\\site-packages (1.5.1)\n",
      "Requirement already satisfied: numpy>=1.19.5 in c:\\users\\iqraf\\anaconda3\\lib\\site-packages (from scikit-learn) (1.26.4)\n",
      "Requirement already satisfied: scipy>=1.6.0 in c:\\users\\iqraf\\anaconda3\\lib\\site-packages (from scikit-learn) (1.13.1)\n",
      "Requirement already satisfied: joblib>=1.2.0 in c:\\users\\iqraf\\anaconda3\\lib\\site-packages (from scikit-learn) (1.4.2)\n",
      "Requirement already satisfied: threadpoolctl>=3.1.0 in c:\\users\\iqraf\\anaconda3\\lib\\site-packages (from scikit-learn) (3.5.0)\n",
      "Note: you may need to restart the kernel to use updated packages.\n"
     ]
    }
   ],
   "source": [
    "pip install scikit-learn"
   ]
  },
  {
   "cell_type": "markdown",
   "id": "2bb56f23-26d6-4d67-a5df-80480d4f70f6",
   "metadata": {},
   "source": [
    "### label encoding using sklearn\n",
    "if the coloumn is ctegorical then only perform encoding"
   ]
  },
  {
   "cell_type": "code",
   "execution_count": 16,
   "id": "862b52fd-b35a-48f4-823f-04eda2f5494e",
   "metadata": {},
   "outputs": [
    {
     "data": {
      "text/html": [
       "<div>\n",
       "<style scoped>\n",
       "    .dataframe tbody tr th:only-of-type {\n",
       "        vertical-align: middle;\n",
       "    }\n",
       "\n",
       "    .dataframe tbody tr th {\n",
       "        vertical-align: top;\n",
       "    }\n",
       "\n",
       "    .dataframe thead th {\n",
       "        text-align: right;\n",
       "    }\n",
       "</style>\n",
       "<table border=\"1\" class=\"dataframe\">\n",
       "  <thead>\n",
       "    <tr style=\"text-align: right;\">\n",
       "      <th></th>\n",
       "      <th>CustomerID</th>\n",
       "      <th>Age</th>\n",
       "      <th>Gender</th>\n",
       "      <th>AnnualIncome</th>\n",
       "      <th>SpendingScore</th>\n",
       "      <th>City</th>\n",
       "      <th>IsActive</th>\n",
       "      <th>Age_new</th>\n",
       "      <th>SignupYear</th>\n",
       "      <th>SignupMonth</th>\n",
       "    </tr>\n",
       "  </thead>\n",
       "  <tbody>\n",
       "    <tr>\n",
       "      <th>0</th>\n",
       "      <td>CUST1000</td>\n",
       "      <td>64</td>\n",
       "      <td>1</td>\n",
       "      <td>82.94</td>\n",
       "      <td>51</td>\n",
       "      <td>Chicago</td>\n",
       "      <td>1</td>\n",
       "      <td>64</td>\n",
       "      <td>2020</td>\n",
       "      <td>8</td>\n",
       "    </tr>\n",
       "    <tr>\n",
       "      <th>1</th>\n",
       "      <td>CUST1001</td>\n",
       "      <td>36</td>\n",
       "      <td>1</td>\n",
       "      <td>55.44</td>\n",
       "      <td>92</td>\n",
       "      <td>San Francisco</td>\n",
       "      <td>0</td>\n",
       "      <td>36</td>\n",
       "      <td>2022</td>\n",
       "      <td>2</td>\n",
       "    </tr>\n",
       "    <tr>\n",
       "      <th>2</th>\n",
       "      <td>CUST1002</td>\n",
       "      <td>35</td>\n",
       "      <td>0</td>\n",
       "      <td>60.98</td>\n",
       "      <td>14</td>\n",
       "      <td>New York</td>\n",
       "      <td>1</td>\n",
       "      <td>35</td>\n",
       "      <td>2022</td>\n",
       "      <td>8</td>\n",
       "    </tr>\n",
       "    <tr>\n",
       "      <th>3</th>\n",
       "      <td>CUST1003</td>\n",
       "      <td>52</td>\n",
       "      <td>0</td>\n",
       "      <td>74.94</td>\n",
       "      <td>36</td>\n",
       "      <td>Houston</td>\n",
       "      <td>1</td>\n",
       "      <td>52</td>\n",
       "      <td>2020</td>\n",
       "      <td>1</td>\n",
       "    </tr>\n",
       "    <tr>\n",
       "      <th>4</th>\n",
       "      <td>CUST1004</td>\n",
       "      <td>33</td>\n",
       "      <td>1</td>\n",
       "      <td>90.57</td>\n",
       "      <td>34</td>\n",
       "      <td>San Francisco</td>\n",
       "      <td>1</td>\n",
       "      <td>33</td>\n",
       "      <td>2020</td>\n",
       "      <td>12</td>\n",
       "    </tr>\n",
       "  </tbody>\n",
       "</table>\n",
       "</div>"
      ],
      "text/plain": [
       "  CustomerID  Age  Gender  AnnualIncome  SpendingScore           City  \\\n",
       "0   CUST1000   64       1         82.94             51        Chicago   \n",
       "1   CUST1001   36       1         55.44             92  San Francisco   \n",
       "2   CUST1002   35       0         60.98             14       New York   \n",
       "3   CUST1003   52       0         74.94             36        Houston   \n",
       "4   CUST1004   33       1         90.57             34  San Francisco   \n",
       "\n",
       "   IsActive  Age_new  SignupYear  SignupMonth  \n",
       "0         1       64        2020            8  \n",
       "1         0       36        2022            2  \n",
       "2         1       35        2022            8  \n",
       "3         1       52        2020            1  \n",
       "4         1       33        2020           12  "
      ]
     },
     "execution_count": 16,
     "metadata": {},
     "output_type": "execute_result"
    }
   ],
   "source": [
    "le_gender=LabelEncoder() # LabelEncoder() is responsible for encoding eachj value uniquely\n",
    "le_active=LabelEncoder()\n",
    "cus['Gender']=le_gender.fit_transform(cus['Gender']) #fit-> it maps the encode to all values of column \n",
    "cus['IsActive']=le_active.fit_transform(cus['IsActive']) #transform-> conversion wala kaam \n",
    "cus.head()"
   ]
  },
  {
   "cell_type": "code",
   "execution_count": 17,
   "id": "67ae994c-bb38-45d9-b860-4bbb7dbf5143",
   "metadata": {},
   "outputs": [
    {
     "name": "stdout",
     "output_type": "stream",
     "text": [
      "<class 'pandas.core.frame.DataFrame'>\n",
      "RangeIndex: 100 entries, 0 to 99\n",
      "Data columns (total 10 columns):\n",
      " #   Column         Non-Null Count  Dtype  \n",
      "---  ------         --------------  -----  \n",
      " 0   CustomerID     100 non-null    object \n",
      " 1   Age            100 non-null    int64  \n",
      " 2   Gender         100 non-null    int32  \n",
      " 3   AnnualIncome   100 non-null    float64\n",
      " 4   SpendingScore  100 non-null    int64  \n",
      " 5   City           100 non-null    object \n",
      " 6   IsActive       100 non-null    int32  \n",
      " 7   Age_new        100 non-null    int64  \n",
      " 8   SignupYear     100 non-null    int32  \n",
      " 9   SignupMonth    100 non-null    int32  \n",
      "dtypes: float64(1), int32(4), int64(3), object(2)\n",
      "memory usage: 6.4+ KB\n"
     ]
    }
   ],
   "source": [
    "cus.info()"
   ]
  },
  {
   "cell_type": "markdown",
   "id": "e3d8c25b-d5f8-4770-8cb3-9d4bb54d4bb0",
   "metadata": {},
   "source": [
    "#### Finding range of va;ies within coloumn"
   ]
  },
  {
   "cell_type": "code",
   "execution_count": 18,
   "id": "60cdb0e1-2b38-4d5a-8a09-5479f5834e5a",
   "metadata": {},
   "outputs": [
    {
     "name": "stdout",
     "output_type": "stream",
     "text": [
      "Range of age-> 20 to 68.\n",
      "Range of age-> min    20\n",
      "max    68\n",
      "Name: Age, dtype: int64.\n",
      "\n",
      "Range of annual income-> min    44.72\n",
      "max    93.25\n",
      "Name: AnnualIncome, dtype: float64.\n"
     ]
    }
   ],
   "source": [
    "#using min and max\n",
    "min_age=cus['Age'].min()\n",
    "max_age=cus['Age'].max()\n",
    "print(f\"Range of age-> {min_age} to {max_age}.\")\n",
    "#using aggregate functio\n",
    "range=cus['Age'].agg(['min','max'])\n",
    "print(f\"Range of age-> {range}.\")\n",
    "print()\n",
    "range_inc=cus['AnnualIncome'].agg(['min','max'])\n",
    "print(f\"Range of annual income-> {range_inc}.\")\n"
   ]
  },
  {
   "cell_type": "markdown",
   "id": "5eaf7b38-ccfc-4add-81f6-62eab5825499",
   "metadata": {},
   "source": [
    "### finding count of unique values in column"
   ]
  },
  {
   "cell_type": "code",
   "execution_count": 19,
   "id": "1f38f4ba-af67-414e-8918-e8d6dadbe876",
   "metadata": {},
   "outputs": [
    {
     "name": "stdout",
     "output_type": "stream",
     "text": [
      "No of unique values of city City\n",
      "Houston          48\n",
      "Chicago          20\n",
      "San Francisco    15\n",
      "New York         11\n",
      "Los Angeles       5\n",
      "Nan               1\n",
      "Name: count, dtype: int64\n"
     ]
    }
   ],
   "source": [
    "unique_city=cus['City'].value_counts()\n",
    "print(\"No of unique values of city\",unique_city)"
   ]
  },
  {
   "cell_type": "markdown",
   "id": "99d79e49-93d0-4717-8143-8ae5de4d78b0",
   "metadata": {},
   "source": [
    "# Visualization\n"
   ]
  },
  {
   "cell_type": "markdown",
   "id": "4c11b059-b197-4df1-805f-816d86991798",
   "metadata": {},
   "source": [
    "<h3 style='color: orange'>There are 2 types of charts-</h3>\n",
    "<li><b>Univariate chart-></b>these are charts which depend on single value eg: piew chart </li>\n",
    "<li><b>Multivariate chart-></b>these are charts with the help ogf more than one value eg line chart bar chart </li>"
   ]
  },
  {
   "cell_type": "markdown",
   "id": "c9b710c0-81ce-4fe2-a4b4-58e3509c072a",
   "metadata": {},
   "source": [
    "For visualization we are going to use two libraries a)<b>Matplotlib</b> b)<b>Seaborn</b>"
   ]
  },
  {
   "cell_type": "code",
   "execution_count": 22,
   "id": "5d93b4e2-9d3d-4215-922a-075dd6eb32ae",
   "metadata": {},
   "outputs": [
    {
     "name": "stdout",
     "output_type": "stream",
     "text": [
      "Requirement already satisfied: matplotlib in c:\\users\\iqraf\\anaconda3\\lib\\site-packages (3.9.2)Note: you may need to restart the kernel to use updated packages.\n",
      "\n",
      "Requirement already satisfied: contourpy>=1.0.1 in c:\\users\\iqraf\\anaconda3\\lib\\site-packages (from matplotlib) (1.2.0)\n",
      "Requirement already satisfied: cycler>=0.10 in c:\\users\\iqraf\\anaconda3\\lib\\site-packages (from matplotlib) (0.11.0)\n",
      "Requirement already satisfied: fonttools>=4.22.0 in c:\\users\\iqraf\\anaconda3\\lib\\site-packages (from matplotlib) (4.51.0)\n",
      "Requirement already satisfied: kiwisolver>=1.3.1 in c:\\users\\iqraf\\anaconda3\\lib\\site-packages (from matplotlib) (1.4.4)\n",
      "Requirement already satisfied: numpy>=1.23 in c:\\users\\iqraf\\anaconda3\\lib\\site-packages (from matplotlib) (1.26.4)\n",
      "Requirement already satisfied: packaging>=20.0 in c:\\users\\iqraf\\anaconda3\\lib\\site-packages (from matplotlib) (24.1)\n",
      "Requirement already satisfied: pillow>=8 in c:\\users\\iqraf\\anaconda3\\lib\\site-packages (from matplotlib) (10.4.0)\n",
      "Requirement already satisfied: pyparsing>=2.3.1 in c:\\users\\iqraf\\anaconda3\\lib\\site-packages (from matplotlib) (3.1.2)\n",
      "Requirement already satisfied: python-dateutil>=2.7 in c:\\users\\iqraf\\anaconda3\\lib\\site-packages (from matplotlib) (2.9.0.post0)\n",
      "Requirement already satisfied: six>=1.5 in c:\\users\\iqraf\\anaconda3\\lib\\site-packages (from python-dateutil>=2.7->matplotlib) (1.16.0)\n"
     ]
    }
   ],
   "source": [
    "pip install matplotlib\n"
   ]
  },
  {
   "cell_type": "code",
   "execution_count": 23,
   "id": "73978c1a-0410-423b-8ae3-76d967eeeafe",
   "metadata": {},
   "outputs": [
    {
     "name": "stdout",
     "output_type": "stream",
     "text": [
      "Requirement already satisfied: seaborn in c:\\users\\iqraf\\anaconda3\\lib\\site-packages (0.13.2)Note: you may need to restart the kernel to use updated packages.\n",
      "\n",
      "Requirement already satisfied: numpy!=1.24.0,>=1.20 in c:\\users\\iqraf\\anaconda3\\lib\\site-packages (from seaborn) (1.26.4)\n",
      "Requirement already satisfied: pandas>=1.2 in c:\\users\\iqraf\\anaconda3\\lib\\site-packages (from seaborn) (2.2.2)\n",
      "Requirement already satisfied: matplotlib!=3.6.1,>=3.4 in c:\\users\\iqraf\\anaconda3\\lib\\site-packages (from seaborn) (3.9.2)\n",
      "Requirement already satisfied: contourpy>=1.0.1 in c:\\users\\iqraf\\anaconda3\\lib\\site-packages (from matplotlib!=3.6.1,>=3.4->seaborn) (1.2.0)\n",
      "Requirement already satisfied: cycler>=0.10 in c:\\users\\iqraf\\anaconda3\\lib\\site-packages (from matplotlib!=3.6.1,>=3.4->seaborn) (0.11.0)\n",
      "Requirement already satisfied: fonttools>=4.22.0 in c:\\users\\iqraf\\anaconda3\\lib\\site-packages (from matplotlib!=3.6.1,>=3.4->seaborn) (4.51.0)\n",
      "Requirement already satisfied: kiwisolver>=1.3.1 in c:\\users\\iqraf\\anaconda3\\lib\\site-packages (from matplotlib!=3.6.1,>=3.4->seaborn) (1.4.4)\n",
      "Requirement already satisfied: packaging>=20.0 in c:\\users\\iqraf\\anaconda3\\lib\\site-packages (from matplotlib!=3.6.1,>=3.4->seaborn) (24.1)\n",
      "Requirement already satisfied: pillow>=8 in c:\\users\\iqraf\\anaconda3\\lib\\site-packages (from matplotlib!=3.6.1,>=3.4->seaborn) (10.4.0)\n",
      "Requirement already satisfied: pyparsing>=2.3.1 in c:\\users\\iqraf\\anaconda3\\lib\\site-packages (from matplotlib!=3.6.1,>=3.4->seaborn) (3.1.2)\n",
      "Requirement already satisfied: python-dateutil>=2.7 in c:\\users\\iqraf\\anaconda3\\lib\\site-packages (from matplotlib!=3.6.1,>=3.4->seaborn) (2.9.0.post0)\n",
      "Requirement already satisfied: pytz>=2020.1 in c:\\users\\iqraf\\anaconda3\\lib\\site-packages (from pandas>=1.2->seaborn) (2024.1)\n",
      "Requirement already satisfied: tzdata>=2022.7 in c:\\users\\iqraf\\anaconda3\\lib\\site-packages (from pandas>=1.2->seaborn) (2023.3)\n",
      "Requirement already satisfied: six>=1.5 in c:\\users\\iqraf\\anaconda3\\lib\\site-packages (from python-dateutil>=2.7->matplotlib!=3.6.1,>=3.4->seaborn) (1.16.0)\n"
     ]
    }
   ],
   "source": [
    "pip install seaborn\n"
   ]
  },
  {
   "cell_type": "markdown",
   "id": "d06381c0-59b0-44a9-9cac-f88cca930e84",
   "metadata": {},
   "source": [
    "## signup trend over time"
   ]
  },
  {
   "cell_type": "code",
   "execution_count": 28,
   "id": "302fa643-5308-4dd1-bedb-7577ce75ec24",
   "metadata": {},
   "outputs": [
    {
     "name": "stdout",
     "output_type": "stream",
     "text": [
      "SignupMonth\n",
      "1     14\n",
      "2      5\n",
      "3      7\n",
      "4      7\n",
      "5      3\n",
      "6      6\n",
      "7      9\n",
      "8      9\n",
      "9     11\n",
      "10    15\n",
      "11     8\n",
      "12     6\n",
      "Name: count, dtype: int64\n"
     ]
    }
   ],
   "source": [
    "monthly_signup=cus['SignupMonth'].value_counts().sort_index()\n",
    "print(monthly_signup)"
   ]
  },
  {
   "cell_type": "code",
   "execution_count": 29,
   "id": "75f28ba6-3e00-4243-8a40-c5e65fe97c1e",
   "metadata": {},
   "outputs": [
    {
     "name": "stdout",
     "output_type": "stream",
     "text": [
      "<class 'pandas.core.series.Series'>\n"
     ]
    }
   ],
   "source": [
    "print(type(monthly_signup))"
   ]
  },
  {
   "cell_type": "code",
   "execution_count": 42,
   "id": "0cc8a47c-1411-4732-8236-cc126ddacf0f",
   "metadata": {},
   "outputs": [
    {
     "data": {
      "image/png": "[encoded data removed]",
      "text/plain": [
       "<Figure size 1200x500 with 1 Axes>"
      ]
     },
     "metadata": {},
     "output_type": "display_data"
    }
   ],
   "source": [
    "# step-1 set the size of figure\n",
    "plt.figure(figsize=(12,5))\n",
    "monthly_signup.plot(kind='line',marker='X')\n",
    "plt.title('Customer Signup ober time' )\n",
    "plt.ylabel('No of signups')\n",
    "plt.grid(True)\n",
    "plt.show()"
   ]
  },
  {
   "cell_type": "code",
   "execution_count": 46,
   "id": "3c2622f0-d1a8-4af6-ab71-6e28f8cc9eac",
   "metadata": {},
   "outputs": [
    {
     "data": {
      "image/png": "[encoded data removed]",
      "text/plain": [
       "<Figure size 1200x500 with 1 Axes>"
      ]
     },
     "metadata": {},
     "output_type": "display_data"
    }
   ],
   "source": [
    "# step-1 set the size of figure\n",
    "plt.figure(figsize=(12,5))\n",
    "monthly_signup.plot(kind='bar')\n",
    "plt.title('Customer Signup ober time' )\n",
    "plt.ylabel('No of signups')\n",
    "plt.xticks(rotation=360) #45 for right side negative values or 0 \n",
    "plt.grid(True)\n",
    "plt.show()"
   ]
  },
  {
   "cell_type": "markdown",
   "id": "d8ae661f-c834-4f8d-81e9-18a55c81e00f",
   "metadata": {},
   "source": [
    "<p> from the observation of above chart, we can clearly identify that <b>october has most number of signups</b>b followed by january while <b>may has least number of signups</b><p>"
   ]
  },
  {
   "cell_type": "markdown",
   "id": "c8f4d827-e854-4602-9523-b2ff4ea4d8b2",
   "metadata": {},
   "source": [
    "### countplot : gender distribution\n",
    "difference between matplotlib seaborn \n",
    "seaborn is extended version of matplotlib for scientific dta long concetp data seasobirn used used for detailed information gives smart information seaborn more effocient"
   ]
  },
  {
   "cell_type": "code",
   "execution_count": 50,
   "id": "b1ad5668-c08b-451c-84b9-552435cc6f16",
   "metadata": {},
   "outputs": [
    {
     "data": {
      "image/png": "[encoded data removed]",
      "text/plain": [
       "<Figure size 600x400 with 1 Axes>"
      ]
     },
     "metadata": {},
     "output_type": "display_data"
    }
   ],
   "source": [
    "plt.figure(figsize=(6,4))\n",
    "sns.countplot(x='Gender',data=cus)\n",
    "plt.title('Gender distribution')\n",
    "plt.grid()\n",
    "plt.show()"
   ]
  },
  {
   "cell_type": "markdown",
   "id": "58bc522f-35b8-4f9a-a339-897527f1761e",
   "metadata": {},
   "source": [
    "### Boxplot : annual income by gender"
   ]
  },
  {
   "cell_type": "code",
   "execution_count": 51,
   "id": "efc29fb7-a0f4-4c02-a110-5fd06c827736",
   "metadata": {},
   "outputs": [
    {
     "data": {
      "image/png": "[encoded data removed]",
      "text/plain": [
       "<Figure size 1000x500 with 1 Axes>"
      ]
     },
     "metadata": {},
     "output_type": "display_data"
    }
   ],
   "source": [
    "plt.figure(figsize=(10,5))\n",
    "sns.boxplot(x='Gender',y='AnnualIncome',data=cus)\n",
    "plt.title('Annual Income by Gneder')\n",
    "plt.show()"
   ]
  },
  {
   "cell_type": "code",
   "execution_count": null,
   "id": "e4d1cb41-b457-4518-bbcb-494cd2873232",
   "metadata": {},
   "outputs": [],
   "source": []
  }
 ],
 "metadata": {
  "kernelspec": {
   "display_name": "Python [conda env:base] *",
   "language": "python",
   "name": "conda-base-py"
  },
  "language_info": {
   "codemirror_mode": {
    "name": "ipython",
    "version": 3
   },
   "file_extension": ".py",
   "mimetype": "text/x-python",
   "name": "python",
   "nbconvert_exporter": "python",
   "pygments_lexer": "ipython3",
   "version": "3.12.7"
  }
 },
 "nbformat": 4,
 "nbformat_minor": 5
}
