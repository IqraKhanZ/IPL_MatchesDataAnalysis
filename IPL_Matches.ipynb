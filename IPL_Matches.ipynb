{
 "cells": [
  {
   "cell_type": "markdown",
   "id": "fb79a241-4e54-48c7-8d01-8d849cd20904",
   "metadata": {},
   "source": [
    "# <span style=\"color:red\">IPL Match Dataset Analysis and Visualization</span>\n",
    "\n",
    "<span style=\"color:black\">This project focuses on analyzing IPL (Indian Premier League) cricket match data. The objective is to perform exploratory data analysis, uncover patterns, and visualize key insights such as scoring trends, team performance, and player statistics.</span>"
   ]
  },
  {
   "cell_type": "markdown",
   "id": "d2d7e1c5-2569-4e32-8ed9-2ba9132c8a3d",
   "metadata": {},
   "source": [
    "## <span style=\"color:blue\">Dataset Overview</span>\n",
    "\n",
    "The IPL dataset used in this project contains detailed information about matches played in the Indian Premier League. It includes various attributes such as:\n",
    "\n",
    "- <span style=\"color:orange\">**Match details**</span>: Date, season, venue, and city.  \n",
    "- <span style=\"color:orange\">**Teams and outcome**</span>: Names of competing teams, toss winner, toss decision, match winner, result margin, and player of the match.  \n",
    "- <span style=\"color:orange\">**Scoring information**</span>: Target runs, target overs, and other numerical details related to match performance.  \n",
    "\n",
    "The dataset provides a comprehensive view of historical IPL matches, allowing for analysis of team performance, venue trends, toss impact, and other key insights.  \n",
    "This dataset was sourced from **Kaggle**, a popular platform for data science competitions and datasets.\n",
    "\n"
   ]
  },
  {
   "cell_type": "markdown",
   "id": "9d407e65-e7bb-409f-8988-b4efa217edb8",
   "metadata": {},
   "source": [
    "###  <span style=\"color:blue\">Importing Required Libraries\n",
    "\n",
    "In this step, we import all the necessary libraries:\n",
    "- <span style=\"color:orange\">**pandas**</span> for data manipulation\n",
    "- <span style=\"color:orange\">**numpy**</span> for numerical operations\n",
    "- <span style=\"color:orange\">**sklearn.preprocessing.LabelEncode**</span> for encoding categorical variables\n",
    "- <span style=\"color:orange\">**matplotlib.pyplot**</span> and <span style=\"color:orange\">**seaborn**</span> for data visualization\n"
   ]
  },
  {
   "cell_type": "code",
   "execution_count": null,
   "id": "3d1cf13e-8d34-4144-a438-535067ea0e07",
   "metadata": {},
   "outputs": [],
   "source": [
    "import pandas as pd\n",
    "from sklearn.preprocessing import LabelEncoder\n",
    "import numpy as np\n",
    "import matplotlib.pyplot as plt\n",
    "import seaborn as sns"
   ]
  },
  {
   "cell_type": "markdown",
   "id": "ae86ba87-54ba-4dd9-8632-541ae0f9fdc2",
   "metadata": {},
   "source": [
    "### <span style=\"color:blue\"> Reading the file"
   ]
  },
  {
   "cell_type": "code",
   "execution_count": null,
   "id": "2429e40a-683f-44ef-aad1-5fc57eff75a3",
   "metadata": {},
   "outputs": [],
   "source": [
    "ipl=pd.read_csv('ipl_matches.csv')\n",
    "print('File successfully read')"
   ]
  },
  {
   "cell_type": "markdown",
   "id": "217ac2ea-c073-4ccd-aa0f-2e225fa98c57",
   "metadata": {},
   "source": [
    "## <span style=\"color:blue\">Data Inspection & Understanding</span>"
   ]
  },
  {
   "cell_type": "markdown",
   "id": "0733b042-22a6-4b2d-8f5f-8bd70b097369",
   "metadata": {},
   "source": [
    "#### <span style=\"color:green\"> Reading the top 5 values\n",
    "To understand the data "
   ]
  },
  {
   "cell_type": "code",
   "execution_count": null,
   "id": "666e239c-bffe-414c-bde1-04444d2fc6c3",
   "metadata": {},
   "outputs": [],
   "source": [
    "ipl.head()"
   ]
  },
  {
   "cell_type": "markdown",
   "id": "b380ab17-55b3-4547-8f9b-d158fef6f3db",
   "metadata": {},
   "source": [
    "#### <span style=\"color:green\"> Reading the bottom 5 values\n",
    "To understand the data"
   ]
  },
  {
   "cell_type": "code",
   "execution_count": null,
   "id": "d086693a-5707-4a18-8b27-8d410df456fb",
   "metadata": {},
   "outputs": [],
   "source": [
    "ipl.tail()"
   ]
  },
  {
   "cell_type": "markdown",
   "id": "19f324cb-ee93-4156-b321-c2f8feed8d07",
   "metadata": {},
   "source": [
    "#### <span style=\"color:green\"> Getting basic information about the data"
   ]
  },
  {
   "cell_type": "code",
   "execution_count": null,
   "id": "23b5b50f-0844-44bc-b50c-ab11e71f3662",
   "metadata": {},
   "outputs": [],
   "source": [
    "ipl.info()"
   ]
  },
  {
   "cell_type": "markdown",
   "id": "d87ce60d-8739-4cba-b841-6f2c1d94dfc8",
   "metadata": {},
   "source": [
    "#### <span style=\"color:green\">Generating summary statistics for numerical columns</span>"
   ]
  },
  {
   "cell_type": "code",
   "execution_count": null,
   "id": "63b3b687-4b35-49c1-9a59-8b7fee7d61c1",
   "metadata": {},
   "outputs": [],
   "source": [
    "ipl.describe()"
   ]
  },
  {
   "cell_type": "markdown",
   "id": "879d1743-e551-4ad2-ab86-fd644913b2bc",
   "metadata": {},
   "source": [
    "#### <span style=\"color:green\">Checking column names in the dataset</span>"
   ]
  },
  {
   "cell_type": "code",
   "execution_count": null,
   "id": "cf700e1d-a8f8-4f1d-bab5-732a2f7269b6",
   "metadata": {},
   "outputs": [],
   "source": [
    "ipl.columns"
   ]
  },
  {
   "cell_type": "markdown",
   "id": "c6461944-2d91-4f1b-b435-abd72c541cef",
   "metadata": {},
   "source": [
    "#### <span style=\"color:green\">Checking the shape of the dataset</span>"
   ]
  },
  {
   "cell_type": "code",
   "execution_count": null,
   "id": "11ef65f2-5ca4-483c-b0a1-fd2ade8f93c7",
   "metadata": {},
   "outputs": [],
   "source": [
    "ipl.shape"
   ]
  },
  {
   "cell_type": "markdown",
   "id": "ea617311-7721-4315-95c3-2803aba7afb9",
   "metadata": {},
   "source": [
    "#### <span style=\"color:green\">Checking the data types of each column</span>"
   ]
  },
  {
   "cell_type": "code",
   "execution_count": null,
   "id": "184b663b-0a2c-4e20-b3fc-e1a878e0d1c1",
   "metadata": {
    "scrolled": true
   },
   "outputs": [],
   "source": [
    "ipl.dtypes"
   ]
  },
  {
   "cell_type": "markdown",
   "id": "93fe4ce6-c80e-4387-9229-3c290d07f569",
   "metadata": {},
   "source": [
    "#### <span style=\"color:green\">Checking for missing values</span>"
   ]
  },
  {
   "cell_type": "code",
   "execution_count": null,
   "id": "ac9ed493-7acb-4ef6-9267-e26d0449e2e0",
   "metadata": {},
   "outputs": [],
   "source": [
    "ipl.isnull().sum()"
   ]
  },
  {
   "cell_type": "markdown",
   "id": "e365f49e-e2b7-4f7d-8079-bd02709bbaa6",
   "metadata": {},
   "source": [
    "#### <span style=\"color:green\">Checking for duplicate rows</span>"
   ]
  },
  {
   "cell_type": "code",
   "execution_count": null,
   "id": "8618cb28-67c3-4603-81e0-b6370b7acf58",
   "metadata": {},
   "outputs": [],
   "source": [
    "ipl.duplicated().sum()"
   ]
  },
  {
   "cell_type": "markdown",
   "id": "f1b81908-e423-46cc-b88f-d757f9f584f4",
   "metadata": {},
   "source": [
    "#### <span style=\"color:green\">Checking match win counts for each team</span>"
   ]
  },
  {
   "cell_type": "code",
   "execution_count": null,
   "id": "ef5c4ab8-50fe-4650-91f8-250984372976",
   "metadata": {},
   "outputs": [],
   "source": [
    "ipl['winner'].value_counts()"
   ]
  },
  {
   "cell_type": "markdown",
   "id": "1e89c947-18fe-4731-8082-167f8d5d9c6c",
   "metadata": {},
   "source": [
    "#### <span style=\"color:green\">Checking the number of unique venues</span>"
   ]
  },
  {
   "cell_type": "code",
   "execution_count": null,
   "id": "7b1646b3-0f0c-4d81-bb0b-7a02963cc452",
   "metadata": {},
   "outputs": [],
   "source": [
    "ipl['venue'].nunique()"
   ]
  },
  {
   "cell_type": "markdown",
   "id": "fe75e204-0369-44f9-9e98-022fb934cd36",
   "metadata": {},
   "source": [
    "#### <span style=\"color:green\">Counting match wins per team for each season</span>"
   ]
  },
  {
   "cell_type": "code",
   "execution_count": null,
   "id": "09db9590-e7cd-4583-acee-ea1545bd3d57",
   "metadata": {},
   "outputs": [],
   "source": [
    "ipl.groupby('season')['winner'].value_counts()"
   ]
  },
  {
   "cell_type": "markdown",
   "id": "ec0d7636-148f-4832-a368-e26844b1af94",
   "metadata": {},
   "source": [
    "#### <span style=\"color:green\">Checking correlation between numerical columns</span>"
   ]
  },
  {
   "cell_type": "code",
   "execution_count": null,
   "id": "8c462fc8-735e-474d-8f72-6527743b84a4",
   "metadata": {},
   "outputs": [],
   "source": [
    "ipl[['result_margin', 'target_runs', 'target_overs']].corr()"
   ]
  },
  {
   "cell_type": "markdown",
   "id": "04a4dcfb-bd29-413f-aea4-8109ed21209c",
   "metadata": {},
   "source": [
    "## <span style=\"color:blue\">Data Preprocessing</span>\n"
   ]
  },
  {
   "cell_type": "markdown",
   "id": "a2e77dc8-6be4-443b-b0b6-391a361f723f",
   "metadata": {},
   "source": [
    "#### <span style=\"color:green\">Dropping unnecessary column from the dataset</span>"
   ]
  },
  {
   "cell_type": "code",
   "execution_count": null,
   "id": "64427afc-8147-4f8f-8ba1-bdd573fc7475",
   "metadata": {},
   "outputs": [],
   "source": [
    "ipl.drop(['method'], axis=1, inplace=True)  \n",
    "ipl.head()"
   ]
  },
  {
   "cell_type": "markdown",
   "id": "77dcd6b2-c109-419d-a215-0cede897de96",
   "metadata": {},
   "source": [
    "#### <span style=\"color:green\">Filling missing values in 'target_runs' with the median</span>"
   ]
  },
  {
   "cell_type": "code",
   "execution_count": null,
   "id": "983b86d2-fc0a-49f4-944c-8cf498fbc4f9",
   "metadata": {},
   "outputs": [],
   "source": [
    "ipl['target_runs'] = ipl['target_runs'].fillna(ipl['target_runs'].median())"
   ]
  },
  {
   "cell_type": "markdown",
   "id": "a31b0f17-4069-4013-9b13-3f7033d640cb",
   "metadata": {},
   "source": [
    "#### <span style=\"color:green\">Filling missing values in 'target_overs' with the mode</span>"
   ]
  },
  {
   "cell_type": "code",
   "execution_count": null,
   "id": "c408f88b-0323-426b-a9fc-1549496d43af",
   "metadata": {},
   "outputs": [],
   "source": [
    "ipl['target_overs'] = ipl['target_overs'].fillna(ipl['target_overs'].mode()[0])"
   ]
  },
  {
   "cell_type": "markdown",
   "id": "8ebaab36-a2a7-4b25-9498-cbf22d482749",
   "metadata": {},
   "source": [
    "#### <span style=\"color:green\">Filling missing values in 'result_margin' with 0</span>"
   ]
  },
  {
   "cell_type": "code",
   "execution_count": null,
   "id": "5456b031-9db2-4fd8-8f26-10b7ee19e355",
   "metadata": {},
   "outputs": [],
   "source": [
    "ipl['result_margin'] = ipl['result_margin'].fillna(0)"
   ]
  },
  {
   "cell_type": "markdown",
   "id": "eb48d909-3a0f-456e-9b04-d38b1a1d89c0",
   "metadata": {},
   "source": [
    "#### <span style=\"color:green\">Filling missing 'city' values using forward and backward fill based on 'venue'</span>"
   ]
  },
  {
   "cell_type": "code",
   "execution_count": null,
   "id": "d4cb9579-493f-4c38-978e-34a292af27d7",
   "metadata": {},
   "outputs": [],
   "source": [
    "ipl['city'] = ipl.groupby('venue')['city'].transform(lambda x: x.ffill().bfill())"
   ]
  },
  {
   "cell_type": "markdown",
   "id": "b0d7a344-043c-48c7-b133-3e7d0a27cc87",
   "metadata": {},
   "source": [
    "#### <span style=\"color:green\">Filling missing 'player_of_match' values with 'Not awarded'</span>"
   ]
  },
  {
   "cell_type": "code",
   "execution_count": null,
   "id": "e2027bf4-b036-4f98-985c-85f0011d70f3",
   "metadata": {},
   "outputs": [],
   "source": [
    "ipl['player_of_match'] = ipl['player_of_match'].fillna('Not awarded')"
   ]
  },
  {
   "cell_type": "markdown",
   "id": "17f88461-ad86-49c8-9268-c46c9fd5e934",
   "metadata": {},
   "source": [
    "#### <span style=\"color:green\">Filling missing 'winner' values with 'No Result'</span>"
   ]
  },
  {
   "cell_type": "code",
   "execution_count": null,
   "id": "8a8f9aae-2725-47c2-a8f3-0634800ce38e",
   "metadata": {},
   "outputs": [],
   "source": [
    "ipl['winner'] = ipl['winner'].fillna('No Result')"
   ]
  },
  {
   "cell_type": "markdown",
   "id": "19b74854-2f34-4b74-875f-7bbc361667ee",
   "metadata": {},
   "source": [
    "#### <span style=\"color:green\">Encoding categorical columns using Label Encoding</span>"
   ]
  },
  {
   "cell_type": "code",
   "execution_count": null,
   "id": "43db7695-c844-4fec-9789-cc720b081156",
   "metadata": {},
   "outputs": [],
   "source": [
    "label_encoders = {}\n",
    "# List of specific columns to encode\n",
    "columns_to_encode = ['season', 'match_type', 'toss_decision', 'result']\n",
    "\n",
    "for col in columns_to_encode:\n",
    "    le = LabelEncoder()\n",
    "    ipl[col] = le.fit_transform(ipl[col].astype(str))\n",
    "    label_encoders[col] = le"
   ]
  },
  {
   "cell_type": "markdown",
   "id": "a12b8d20-bca8-497e-97d6-4d5764548a9d",
   "metadata": {},
   "source": [
    "#### <span style=\"color:green\">Converting 'date' column to datetime format</span>"
   ]
  },
  {
   "cell_type": "code",
   "execution_count": null,
   "id": "10dd7153-8ca3-4b9c-a0bc-c1f01eb23ffe",
   "metadata": {},
   "outputs": [],
   "source": [
    "ipl['date'] = pd.to_datetime(ipl['date'])"
   ]
  },
  {
   "cell_type": "markdown",
   "id": "4939d510-0487-4b40-8671-297b96c18617",
   "metadata": {},
   "source": [
    "#### <span style=\"color:green\">Viewing the first 25 rows after data preprocessing</span>"
   ]
  },
  {
   "cell_type": "code",
   "execution_count": null,
   "id": "02d20391-e990-4c49-b4c3-1ab1a98f481a",
   "metadata": {},
   "outputs": [],
   "source": [
    "ipl.head(25)"
   ]
  },
  {
   "cell_type": "markdown",
   "id": "649f2e45-549f-4bbf-b696-4c75f19a8127",
   "metadata": {},
   "source": [
    "## <span style=\"color:blue\">Data Visualization & Insights</span>"
   ]
  },
  {
   "cell_type": "markdown",
   "id": "d7dacb13-0c56-4d78-bf39-ef7b5fb511c0",
   "metadata": {},
   "source": [
    "### <span style=\"color:green\">Correlation between Result Margin, Target Runs, and Target Overs </span>\n",
    "We visualize the correlation between key numerical columns using <span style=\"color:orange\"> **sns.heatmap()**. </span>\n",
    "##### <span style=\"color:violet\">Functions used </span>\n",
    "- <span style=\"color:brown\">**corr()**</span>: Calculates the correlation matrix for selected columns.  \n",
    "- <span style=\"color:brown\">**plt.figure()**</span>: Sets the plot size.  \n",
    "- <span style=\"color:brown\">**sns.heatmap()**</span>: Plots the heatmap with correlation values and color scale.  \n",
    "- <span style=\"color:brown\">**plt.title() / plt.show()**</span>: Adds the title and displays the plot."
   ]
  },
  {
   "cell_type": "code",
   "execution_count": null,
   "id": "18ea9e9e-5823-487c-9406-f71dccdaf9f2",
   "metadata": {},
   "outputs": [],
   "source": [
    "corr_cols = ['result_margin', 'target_runs', 'target_overs']\n",
    "corr_matrix = ipl[corr_cols].corr()\n",
    "plt.figure(figsize=(8, 6))\n",
    "sns.heatmap(corr_matrix, annot=True, cmap='coolwarm')\n",
    "plt.title('Correlation between result_margin, target_runs, and target_overs')\n",
    "plt.show()"
   ]
  },
  {
   "cell_type": "markdown",
   "id": "178cc04e-07d5-4011-833a-f3327f52b6f6",
   "metadata": {},
   "source": [
    "### <span style=\"color:#800000\"> Insights </span>\n",
    " \n",
    "- <span style=\"color:#808000\">**Result Margin & Target Runs:**</span> Weak positive correlation (**0.39**), meaning higher targets slightly increase victory margins.\n",
    "- <span style=\"color:#808000\">**Result Margin & Target Overs:**</span> No significant correlation (**0.034**).\n",
    "- <span style=\"color:#808000\">**Target Runs & Target Overs:**</span> Weak positive correlation (**0.35**), suggesting more overs may lead to higher targets.\n",
    "\n",
    "<span style=\"color:orange\">**Conclusion:**</span> Target runs have some influence on result margin, while target overs show minimal direct impact."
   ]
  },
  {
   "cell_type": "markdown",
   "id": "259bdbf6-cc97-4c40-aeba-13e147c4342b",
   "metadata": {},
   "source": [
    "### <span style=\"color:green\">Matches Won by Each Team</span>  \n",
    "We visualize the number of matches won by each team using a <span style=\"color:orange\"> **bar plot** </span>.  \n",
    "\n",
    "##### <span style=\"color:violet\">Functions used</span>  \n",
    "- <span style=\"color:brown\">**plt.figure()**</span>: Sets the plot size.  \n",
    "- <span style=\"color:brown\">**value_counts().plot(kind='bar')**</span>: Plots a bar chart for match wins.  \n",
    "- <span style=\"color:brown\">**plt.title() / plt.xlabel() / plt.ylabel()**</span>: Adds title and axis labels.  \n",
    "- <span style=\"color:brown\">**plt.xticks(rotation=90)**</span>: Rotates x-axis labels for better readability.  \n",
    "- <span style=\"color:brown\">**plt.show()**</span>: Displays the plot.  \n"
   ]
  },
  {
   "cell_type": "code",
   "execution_count": null,
   "id": "d3e63358-b79e-4f6a-a17c-fbf6a9482e42",
   "metadata": {},
   "outputs": [],
   "source": [
    "plt.figure(figsize=(10, 6))\n",
    "ipl['winner'].value_counts().plot(kind='bar')\n",
    "plt.title('Matches Won by Each Team')\n",
    "plt.xlabel('Team')\n",
    "plt.ylabel('Wins')\n",
    "plt.xticks(rotation=90)\n",
    "plt.show()"
   ]
  },
  {
   "cell_type": "markdown",
   "id": "85b039a0-dd66-441c-bd6d-0782b96df1cb",
   "metadata": {},
   "source": [
    "### <span style=\"color:#800000\"> Insights </span>\n",
    "\n",
    "- <span style=\"color:#808000\">**Mumbai Indians:**</span> Most successful team with the highest number of wins.\n",
    "- <span style=\"color:#808000\">**Chennai Super Kings & Kolkata Knight Riders:**</span> Strong performers, closely following MI in total wins.\n",
    "- <span style=\"color:#808000\">**Royal Challengers Bangalore & Rajasthan Royals:**</span> Competitive teams with over 100 wins.\n",
    "- <span style=\"color:#808000\">**Newer teams like Gujarat Titans & Lucknow Super Giants:**</span> Have a smaller win count due to fewer seasons played.\n",
    "- <span style=\"color:#808000\">**Teams like Pune Warriors & Kochi Tuskers Kerala:**</span> Show minimal wins, possibly due to short-lived participation.\n",
    "\n",
    "<span style=\"color:orange\">**Conclusion:**</span> Established franchises like Mumbai Indians and CSK have dominated the IPL, while newer or discontinued teams show lower win counts.\n"
   ]
  },
  {
   "cell_type": "markdown",
   "id": "298cf933-6345-4cc6-a998-6194c1897c57",
   "metadata": {},
   "source": [
    "### <span style=\"color:green\">Number of Unique Venues</span>  \n",
    "We visualize the number of unique venues where IPL matches have been played using a <span style=\"color:orange\"> **bar plot** </span>.  \n",
    "\n",
    "##### <span style=\"color:violet\">Functions used</span>  \n",
    "- <span style=\"color:brown\">**ipl['venue'].value_counts().plot(kind='bar')**</span>: Plots a bar chart for venue frequency.  \n",
    "- <span style=\"color:brown\">**plt.title() / plt.xlabel() / plt.ylabel()**</span>: Adds title and axis labels.  \n",
    "- <span style=\"color:brown\">**plt.xticks(rotation=90)**</span>: Rotates x-axis labels for better readability.  \n",
    "- <span style=\"color:brown\">**plt.show()**</span>: Displays the plot.  \n"
   ]
  },
  {
   "cell_type": "code",
   "execution_count": null,
   "id": "34a6e33c-e6a8-48d1-ba69-1f871da80931",
   "metadata": {},
   "outputs": [],
   "source": [
    "plt.figure(figsize=(8, 5))\n",
    "sns.countplot(data=ipl, x='season', order=sorted(ipl['season'].unique()))\n",
    "plt.title('Matches per Season')\n",
    "plt.xticks(rotation=0)\n",
    "plt.show()"
   ]
  },
  {
   "cell_type": "markdown",
   "id": "8ab05217-43f4-48bf-be92-a1d7bb30e57d",
   "metadata": {},
   "source": [
    "### <span style=\"color:#800000\"> Insights </span>\n",
    "\n",
    "- <span style=\"color:#808000\">**Seasons 3 to 5:**</span> Highest number of matches played, indicating peak participation or extended formats during these years.\n",
    "- <span style=\"color:#808000\">**Seasons 6 to 13:**</span> Consistent number of matches around the 60-mark, showing a stabilized league structure.\n",
    "- <span style=\"color:#808000\">**Seasons 14 to 16:**</span> Slight increase in matches, likely due to league expansion or format changes.\n",
    "\n",
    "<span style=\"color:orange\">**Conclusion:**</span> The number of matches per season has fluctuated over time, with recent seasons witnessing a rise, reflecting the league's growth and evolving format.\n"
   ]
  },
  {
   "cell_type": "markdown",
   "id": "a9a4ce2a-206b-43b7-8759-d47c79567b84",
   "metadata": {},
   "source": [
    "### <span style=\"color:green\">Team vs Team Matchups</span>  \n",
    "We visualize how many times each pair of teams has faced each other using a <span style=\"color:orange\"> **heatmap** </span>.  \n",
    "\n",
    "##### <span style=\"color:violet\">Functions used</span>  \n",
    "- <span style=\"color:brown\">**pd.crosstab()**</span>: Creates a frequency table of matches between teams.  \n",
    "- <span style=\"color:brown\">**sns.heatmap()**</span>: Visualizes the matchup frequency using a heatmap.  \n",
    "- <span style=\"color:brown\">**plt.title()**</span>: Adds a title to the heatmap.  \n",
    "- <span style=\"color:brown\">**plt.show()**</span>: Displays the plot.  \n"
   ]
  },
  {
   "cell_type": "code",
   "execution_count": null,
   "id": "c2b3e6a1-0e17-40b2-a0a1-279dc76552d5",
   "metadata": {},
   "outputs": [],
   "source": [
    "team_vs_team = pd.crosstab(ipl['team1'], ipl['team2'])\n",
    "sns.heatmap(team_vs_team, cmap=\"YlGnBu\", linewidths=.5)\n",
    "plt.title('Team vs Team Matchups')\n",
    "plt.show()"
   ]
  },
  {
   "cell_type": "markdown",
   "id": "0ec2e684-e756-4b46-ae3b-585e803bbdd2",
   "metadata": {},
   "source": [
    "### <span style=\"color:#800000\"> Insights </span>\n",
    "\n",
    "- <span style=\"color:#808000\">**Darker squares:**</span> Represent frequent matchups, indicating popular rivalries or commonly scheduled matches (e.g., Mumbai Indians vs CSK, RCB vs KKR).\n",
    "- <span style=\"color:#808000\">**Lighter squares or blanks:**</span> Indicate fewer or no matches, often seen for newer or discontinued teams like Gujarat Titans, Kochi Tuskers Kerala, and Rising Pune Supergiant.\n",
    "- <span style=\"color:#808000\">**Diagonal is not significant:**</span> Diagonal squares are team vs itself, hence not applicable.\n",
    "\n",
    "<span style=\"color:orange\">**Conclusion:**</span> The heatmap highlights historic rivalries and reveals teams with limited or no head-to-head matches due to short participation or recent entry.\n"
   ]
  },
  {
   "cell_type": "markdown",
   "id": "6f0c4b7a-309f-45ee-9910-6ff21447abaa",
   "metadata": {
    "jp-MarkdownHeadingCollapsed": true
   },
   "source": [
    "### <span style=\"color:green\">Pairplot for Result Margin, Target Runs, and Target Overs</span>  \n",
    "We visualize pairwise relationships between key numerical columns using a <span style=\"color:orange\"> **pairplot** </span>.  \n",
    "\n",
    "##### <span style=\"color:violet\">Functions used</span>  \n",
    "- <span style=\"color:brown\">**sns.pairplot()**</span>: Creates scatter plots and distributions to explore relationships between the selected columns.  \n",
    "- <span style=\"color:brown\">**plt.show()**</span>: Displays the plot.  \n"
   ]
  },
  {
   "cell_type": "code",
   "execution_count": null,
   "id": "c23f43e7-9f3c-4667-85c6-ad1450ecdea3",
   "metadata": {},
   "outputs": [],
   "source": [
    "sns.pairplot(ipl[['result_margin', 'target_runs', 'target_overs']], height=2)  \n",
    "plt.show()"
   ]
  },
  {
   "cell_type": "markdown",
   "id": "c74478e5-0c6f-4712-8d3a-c0737b4edef8",
   "metadata": {},
   "source": [
    "### <span style=\"color:#800000\"> Insights </span>\n",
    "\n",
    "- <span style=\"color:#808000\">**result_margin vs target_runs:**</span> Positive linear trend, indicating higher targets often lead to bigger win margins.\n",
    "- <span style=\"color:#808000\">**target_runs vs target_overs:**</span> Slight upward trend showing longer innings tend to set higher targets.\n",
    "- <span style=\"color:#808000\">**result_margin vs target_overs:**</span> Sparse but increasing pattern, implying some big wins occur in longer innings.\n",
    "- <span style=\"color:#808000\">**Distributions:**</span> target_overs is highly skewed (many matches fixed at 20 overs), while result_margin is concentrated around small values.\n",
    "\n",
    "<span style=\"color:orange\">**Conclusion:**</span> Stronger targets and longer innings slightly contribute to greater win margins, but most matches end within the full 20 overs, as seen in the distributions.\n"
   ]
  },
  {
   "cell_type": "markdown",
   "id": "e5d5c954-bc91-45e9-8da1-96d5d4e99aa1",
   "metadata": {},
   "source": [
    "### <span style=\"color:green\">Target Runs Distribution Across Seasons</span>  \n",
    "We visualize how target runs vary across different IPL seasons using a <span style=\"color:orange\"> **boxplot** </span>.  \n",
    "\n",
    "##### <span style=\"color:violet\">Functions used</span>  \n",
    "- <span style=\"color:brown\">**sns.boxplot()**</span>: Creates a boxplot to show the distribution, median, and outliers of target runs season-wise.  \n",
    "- <span style=\"color:brown\">**plt.title()**</span>: Adds a descriptive title to the plot.  \n",
    "- <span style=\"color:brown\">**plt.show()**</span>: Displays the plot.  \n"
   ]
  },
  {
   "cell_type": "code",
   "execution_count": null,
   "id": "a3a0881c-03ec-4b94-ad1c-2ce7403dcbf1",
   "metadata": {},
   "outputs": [],
   "source": [
    "sns.boxplot(x='season', y='target_runs', data=ipl)\n",
    "plt.title('Target Runs Distribution Across Seasons')\n",
    "plt.show()"
   ]
  },
  {
   "cell_type": "markdown",
   "id": "8c17a286-c29f-4b2f-9353-ea8c2bbe3f00",
   "metadata": {},
   "source": [
    "### <span style=\"color:#800000\"> Insights </span>\n",
    "\n",
    "- <span style=\"color:#808000\">**Median Target Runs:**</span> Gradually increased over the seasons, especially visible in the last few seasons.\n",
    "- <span style=\"color:#808000\">**Spread of Target Runs:**</span> Remains wide across all seasons, indicating varying match situations and scores.\n",
    "- <span style=\"color:#808000\">**Recent Seasons (15 & 16):**</span> Show higher median and maximum target runs, suggesting more high-scoring games.\n",
    "- <span style=\"color:#808000\">**Outliers:**</span> Low target matches exist across seasons, likely due to collapses or rain-shortened games.\n",
    "\n",
    "<span style=\"color:orange\">**Conclusion:**</span> IPL matches have become more high-scoring in recent seasons, with greater target runs, reflecting aggressive batting trends and evolving pitch conditions.\n"
   ]
  },
  {
   "cell_type": "markdown",
   "id": "c197ab3d-e84d-444d-85ee-d321bfcc2191",
   "metadata": {},
   "source": [
    "### <span style=\"color:green\">Top 10 Winning Teams</span>  \n",
    "We visualize the teams with the most match wins using a <span style=\"color:orange\"> **countplot** </span>.  \n",
    "\n",
    "##### <span style=\"color:violet\">Functions used</span>  \n",
    "- <span style=\"color:brown\">**plt.figure()**</span>: Sets the plot size.  \n",
    "- <span style=\"color:brown\">**sns.countplot()**</span>: Plots the count of match wins for the top 10 teams.  \n",
    "- <span style=\"color:brown\">**order=...**</span>: Ensures teams are ordered by their win count.  \n",
    "- <span style=\"color:brown\">**plt.title() / plt.xlabel() / plt.ylabel()**</span>: Adds a title and axis labels.  \n",
    "- <span style=\"color:brown\">**plt.tight_layout()**</span>: Adjusts spacing to avoid overlap.  \n",
    "- <span style=\"color:brown\">**plt.show()**</span>: Displays the plot.  \n"
   ]
  },
  {
   "cell_type": "code",
   "execution_count": null,
   "id": "dc9eb269-44a9-4368-b5e7-516c281ef257",
   "metadata": {},
   "outputs": [],
   "source": [
    "plt.figure(figsize=(12, 6))\n",
    "sns.countplot(y='winner', data=ipl, order=ipl['winner'].value_counts().head(10).index)\n",
    "plt.title('Top 10 Winning Teams')\n",
    "plt.xlabel('Match Wins')\n",
    "plt.ylabel('Team')\n",
    "plt.tight_layout()\n",
    "plt.show()"
   ]
  },
  {
   "cell_type": "markdown",
   "id": "912f3015-631f-4513-812b-f9a45d47b583",
   "metadata": {},
   "source": [
    "### <span style=\"color:#800000\"> Insights </span>\n",
    "\n",
    "- <span style=\"color:#808000\">**Mumbai Indians & Chennai Super Kings:**</span> Most successful IPL teams with the highest match wins.\n",
    "- <span style=\"color:#808000\">**Kolkata Knight Riders & Royal Challengers Bangalore:**</span> Strong performers with over 100 wins.\n",
    "- <span style=\"color:#808000\">**Delhi Capitals, Sunrisers Hyderabad & Kings XI Punjab:**</span> Competitive mid-tier teams.\n",
    "- <span style=\"color:#808000\">**Deccan Chargers & Delhi Daredevils:**</span> Fewer wins due to shorter participation or rebranding.\n",
    "\n",
    "<span style=\"color:orange\">**Conclusion:**</span> Mumbai Indians and CSK have dominated IPL history in terms of match wins, while several other teams have consistently remained competitive.\n"
   ]
  },
  {
   "cell_type": "markdown",
   "id": "b20ff7aa-a5ce-4437-a784-6aa9216dba47",
   "metadata": {},
   "source": [
    "### <span style=\"color:green\">Top 10 Venues by Match Count</span>  \n",
    "We visualize the venues that have hosted the most IPL matches using a <span style=\"color:orange\"> **countplot** </span>.  \n",
    "\n",
    "##### <span style=\"color:violet\">Functions used</span>  \n",
    "- <span style=\"color:brown\">**plt.figure()**</span>: Sets the plot size.  \n",
    "- <span style=\"color:brown\">**sns.countplot()**</span>: Plots the count of matches for the top 10 venues.  \n",
    "- <span style=\"color:brown\">**order=...**</span>: Sorts venues based on match count.  \n",
    "- <span style=\"color:brown\">**plt.title() / plt.xlabel() / plt.ylabel()**</span>: Adds a title and axis labels.  \n",
    "- <span style=\"color:brown\">**plt.tight_layout()**</span>: Adjusts layout for better readability.  \n",
    "- <span style=\"color:brown\">**plt.show()**</span>: Displays the plot.  \n"
   ]
  },
  {
   "cell_type": "code",
   "execution_count": null,
   "id": "51a3a78e-d831-4a6d-8e3d-adcfc6a11c03",
   "metadata": {},
   "outputs": [],
   "source": [
    "plt.figure(figsize=(12, 6))\n",
    "sns.countplot(y='venue', data=ipl, order=ipl['venue'].value_counts().head(10).index)\n",
    "plt.title('Top 10 Venues by Match Count')\n",
    "plt.xlabel('Number of Matches')\n",
    "plt.ylabel('Venue')\n",
    "plt.tight_layout()\n",
    "plt.show()"
   ]
  },
  {
   "cell_type": "markdown",
   "id": "3afc37ed-2dd8-4efc-a35c-4ff3dc4cbc12",
   "metadata": {},
   "source": [
    "### <span style=\"color:#800000\"> Insights </span>\n",
    "\n",
    "- <span style=\"color:#808000\">**Eden Gardens & Wankhede Stadium:**</span> Most popular IPL venues, hosting the highest number of matches.\n",
    "- <span style=\"color:#808000\">**M Chinnaswamy Stadium & Feroz Shah Kotla:**</span> Other frequently used, iconic venues.\n",
    "- <span style=\"color:#808000\">**Rajiv Gandhi International Stadium, Chepauk, and Sawai Mansingh Stadium:**</span> Major home grounds contributing significantly to match counts.\n",
    "- <span style=\"color:#808000\">**Dubai International Stadium:**</span> International venue featured prominently, likely due to IPL seasons hosted outside India.\n",
    "\n",
    "<span style=\"color:orange\">**Conclusion:**</span> Traditional home grounds like Eden Gardens and Wankhede Stadium dominate IPL hosting, with international venues gaining prominence in recent years.\n"
   ]
  },
  {
   "cell_type": "markdown",
   "id": "cf0ac85f-ce5c-4ba1-8694-d17d7798c3d1",
   "metadata": {},
   "source": [
    "### <span style=\"color:green\">Toss Decision Distribution</span>  \n",
    "We visualize the distribution of toss decisions using a <span style=\"color:orange\"> **pie chart** </span>.  \n",
    "\n",
    "##### <span style=\"color:violet\">Functions used</span>  \n",
    "- <span style=\"color:brown\">**value_counts()**</span>: Counts the frequency of each toss decision.  \n",
    "- <span style=\"color:brown\">**plt.figure()**</span>: Sets the plot size.  \n",
    "- <span style=\"color:brown\">**plt.pie()**</span>: Plots a pie chart showing the percentage of each toss decision.  \n",
    "- <span style=\"color:brown\">**colors=sns.color_palette(\"Set2\")**</span>: Adds aesthetically pleasing colors to the chart.  \n",
    "- <span style=\"color:brown\">**plt.title() / plt.tight_layout() / plt.show()**</span>: Adds title, adjusts layout, and displays the plot.  \n"
   ]
  },
  {
   "cell_type": "code",
   "execution_count": null,
   "id": "dab6b606-e4b2-45cc-a2e1-ae4aac12999e",
   "metadata": {},
   "outputs": [],
   "source": [
    "toss_counts = ipl['toss_decision'].value_counts()\n",
    "plt.figure(figsize=(6, 6))\n",
    "plt.pie(toss_counts, labels=toss_counts.index, autopct='%1.1f%%', startangle=90, colors=sns.color_palette(\"Set2\"))\n",
    "plt.title('Toss Decision Distribution')\n",
    "plt.tight_layout()\n",
    "plt.show()"
   ]
  },
  {
   "cell_type": "markdown",
   "id": "45fa7c23-1ee9-44a5-bea2-264283e1dc46",
   "metadata": {},
   "source": [
    "### <span style=\"color:#800000\"> Insights </span>\n",
    "\n",
    "- <span style=\"color:#808000\">**1 (likely 'Field' or 'Bowl First'):**</span> Chosen in **64.3%** of matches, showing teams prefer to chase targets after winning the toss.\n",
    "- <span style=\"color:#808000\">**0 (likely 'Bat First'):**</span> Chosen in **35.7%** of matches, indicating a smaller preference for setting a target.\n",
    "\n",
    "<span style=\"color:orange\">**Conclusion:**</span> Most teams prefer to field first after winning the toss, reflecting a chasing-friendly strategy in the IPL.\n"
   ]
  },
  {
   "cell_type": "markdown",
   "id": "abf64ce4-45b9-426c-9d12-e412eccbddd9",
   "metadata": {},
   "source": [
    "### <span style=\"color:green\">Toss Winner vs Match Winner</span>  \n",
    "We visualize the relationship between toss winners and match winners using a <span style=\"color:orange\"> **heatmap** </span>.  \n",
    "\n",
    "##### <span style=\"color:violet\">Functions used</span>  \n",
    "- <span style=\"color:brown\">**pd.crosstab()**</span>: Creates a frequency table of toss winner vs match winner.  \n",
    "- <span style=\"color:brown\">**plt.figure()**</span>: Sets the plot size.  \n",
    "- <span style=\"color:brown\">**sns.heatmap()**</span>: Visualizes the frequency using a heatmap.  \n",
    "- <span style=\"color:brown\">**plt.title() / plt.xlabel() / plt.ylabel()**</span>: Adds title and axis labels.  \n",
    "- <span style=\"color:brown\">**plt.tight_layout() / plt.show()**</span>: Adjusts layout and displays the plot.  \n"
   ]
  },
  {
   "cell_type": "code",
   "execution_count": null,
   "id": "f973a75b-b604-41b8-b251-e524232756e0",
   "metadata": {},
   "outputs": [],
   "source": [
    "toss_vs_match = pd.crosstab(ipl['toss_winner'], ipl['winner'])\n",
    "plt.figure(figsize=(12, 8))\n",
    "sns.heatmap(toss_vs_match, cmap='YlGnBu', linewidths=0.5)\n",
    "plt.title('Toss Winner vs Match Winner')\n",
    "plt.xlabel('Match Winner')\n",
    "plt.ylabel('Toss Winner')\n",
    "plt.tight_layout()\n",
    "plt.show()"
   ]
  },
  {
   "cell_type": "markdown",
   "id": "0ac02a5f-08c8-4538-ae34-e5ad22ce6d85",
   "metadata": {},
   "source": [
    "### <span style=\"color:#800000\"> Insights </span>\n",
    "\n",
    "- <span style=\"color:#808000\">**Darker diagonal cells:**</span> Indicate teams frequently winning the match after winning the toss, especially visible for CSK, KKR, and MI.\n",
    "- <span style=\"color:#808000\">**Lighter off-diagonal cells:**</span> Show instances where toss winners differ from match winners, suggesting toss doesn't always guarantee victory.\n",
    "- <span style=\"color:#808000\">**Teams like CSK and MI:**</span> Consistently convert toss wins into match wins more often than others.\n",
    "\n",
    "<span style=\"color:orange\">**Conclusion:**</span> While winning the toss offers an advantage for certain teams, especially strong ones like CSK and MI, it does not guarantee victory for all teams."
   ]
  },
  {
   "cell_type": "markdown",
   "id": "c1585612-8c39-4923-8627-d57a78c9daf6",
   "metadata": {},
   "source": [
    "### <span style=\"color:green\">Correlation Heatmap of Numeric Features</span>  \n",
    "We visualize the correlation between all numerical columns using a <span style=\"color:orange\"> **heatmap** </span>.  \n",
    "\n",
    "##### <span style=\"color:violet\">Functions used</span>  \n",
    "- <span style=\"color:brown\">**select_dtypes(include='number')**</span>: Selects only numeric columns from the dataset.  \n",
    "- <span style=\"color:brown\">**numeric_df.corr()**</span>: Calculates the correlation matrix for numeric features.  \n",
    "- <span style=\"color:brown\">**plt.figure()**</span>: Sets the plot size.  \n",
    "- <span style=\"color:brown\">**sns.heatmap()**</span>: Visualizes the correlation matrix with color intensity and annotations.  \n",
    "- <span style=\"color:brown\">**plt.title() / plt.tight_layout() / plt.show()**</span>: Adds title, adjusts layout, and displays the plot.  \n"
   ]
  },
  {
   "cell_type": "code",
   "execution_count": null,
   "id": "cc9e1ec8-aba8-4ef5-a0dd-6c8cd2cb422b",
   "metadata": {},
   "outputs": [],
   "source": [
    "numeric_df = ipl.select_dtypes(include='number')\n",
    "plt.figure(figsize=(12, 8))\n",
    "sns.heatmap(numeric_df.corr(), annot=True, cmap='coolwarm', fmt=\".2f\")\n",
    "plt.title('Correlation Heatmap of Numeric Features')\n",
    "plt.tight_layout()\n",
    "plt.show()"
   ]
  },
  {
   "cell_type": "markdown",
   "id": "3039232f-f02e-4959-8fb3-40c9df0dcb17",
   "metadata": {},
   "source": [
    "### <span style=\"color:#800000\"> Insights </span>\n",
    "\n",
    "- <span style=\"color:#808000\">**id and season:**</span> Strong correlation (0.99) showing matches are chronologically structured.\n",
    "- <span style=\"color:#808000\">**result_margin and result:**</span> Negative correlation (-0.53), indicating outcome is influenced by how close or one-sided the match was.\n",
    "- <span style=\"color:#808000\">**target_runs and result_margin:**</span> Positive correlation (0.39), suggesting higher targets often lead to larger victory margins.\n",
    "- <span style=\"color:#808000\">**target_runs and target_overs:**</span> Moderate correlation (0.35), showing longer innings tend to yield bigger targets.\n",
    "- <span style=\"color:#808000\">**match_type, toss_decision, result:**</span> Very weak correlations, indicating these may act more as categorical features.\n",
    "\n",
    "<span style=\"color:orange\">**Conclusion:**</span> Only a few numeric features show strong linear relationships. target_runs and result_margin may carry predictive value, while others might need separate encoding or treatment.\n"
   ]
  }
 ],
 "metadata": {
  "kernelspec": {
   "display_name": "Python [conda env:base] *",
   "language": "python",
   "name": "conda-base-py"
  },
  "language_info": {
   "codemirror_mode": {
    "name": "ipython",
    "version": 3
   },
   "file_extension": ".py",
   "mimetype": "text/x-python",
   "name": "python",
   "nbconvert_exporter": "python",
   "pygments_lexer": "ipython3",
   "version": "3.12.7"
  }
 },
 "nbformat": 4,
 "nbformat_minor": 5
}
